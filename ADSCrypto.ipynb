{
 "cells": [
  {
   "cell_type": "markdown",
   "metadata": {},
   "source": [
    "### Step 1: Import Data with CoinPaprika API (https://api.coinpaprika.com/)"
   ]
  },
  {
   "cell_type": "code",
   "execution_count": 1,
   "metadata": {},
   "outputs": [],
   "source": [
    "#from coinpaprika import client as Coinpaprika\n",
    "\n",
    "#client = Coinpaprika.Client()"
   ]
  },
  {
   "cell_type": "code",
   "execution_count": 5,
   "metadata": {},
   "outputs": [
    {
     "name": "stdout",
     "output_type": "stream",
     "text": [
      "btc-bitcoin\n"
     ]
    }
   ],
   "source": [
    "import Coinpaprika\n",
    "\n",
    "api_client = Coinpaprika.Client()\n",
    "market_overview = api_client.global_market_overview()\n",
    "\n",
    "#print(market_overview)\n",
    "\n",
    "all_coins = api_client.coins()\n",
    "for i  in range(0, 1):\n",
    "    print(all_coins[i]['id'])"
   ]
  },
  {
   "cell_type": "markdown",
   "metadata": {},
   "source": [
    "## get historical data "
   ]
  },
  {
   "cell_type": "code",
   "execution_count": 6,
   "metadata": {},
   "outputs": [],
   "source": [
    "from datetime import datetime, timedelta\n",
    "\n",
    "coins = ['btc-bitcoin', 'eth-ethereum', 'bch-bitcoin-cash', 'bnb-binance-coin', 'xmc-monero-classic', 'ksm-kusama']\n",
    "colors = ['green', 'red', 'blue', 'grey', 'black', 'yellow']\n",
    "\n",
    "hists = []\n",
    "for i in range(0, len(coins)):\n",
    "    hist = api_client.coins.historical_OHLC(\n",
    "        coin_id=coins[i],\n",
    "        start=datetime.now() - timedelta(weeks=4),\n",
    "        end=datetime.now()\n",
    "    )\n",
    "    # TODO: \"clean up\" data (na's, outliers, etc.)\n",
    "    hists.append(hist)\n",
    "    \n",
    "allclosings = []\n",
    "for i in range(0, len(hists)):\n",
    "    closings = []\n",
    "    for u in range(0, len(hists[i])):\n",
    "        closings.append(hists[i][u]['high'])\n",
    "        \n",
    "    allclosings.append(closings)"
   ]
  },
  {
   "cell_type": "code",
   "execution_count": 32,
   "metadata": {},
   "outputs": [
    {
     "ename": "CoinpaprikaError",
     "evalue": "CoinpaprikaAPIException<status_code=404 message='404 page not found\n' url='https://api.coinpaprika.com/v1/coins/['btc-bitcoin']/ohlcv/historical?start=1617348174&end=1619767374&limit=1&quotes=USD'>",
     "output_type": "error",
     "traceback": [
      "\u001b[0;31m---------------------------------------------------------------------------\u001b[0m",
      "\u001b[0;31mCoinpaprikaError\u001b[0m                          Traceback (most recent call last)",
      "\u001b[0;32m<ipython-input-32-f84c63cecf86>\u001b[0m in \u001b[0;36m<module>\u001b[0;34m\u001b[0m\n\u001b[1;32m      4\u001b[0m \u001b[0mcolor\u001b[0m \u001b[0;34m=\u001b[0m \u001b[0;34m[\u001b[0m\u001b[0;34m'green'\u001b[0m\u001b[0;34m]\u001b[0m\u001b[0;34m\u001b[0m\u001b[0;34m\u001b[0m\u001b[0m\n\u001b[1;32m      5\u001b[0m \u001b[0;34m\u001b[0m\u001b[0m\n\u001b[0;32m----> 6\u001b[0;31m hist = api_client.coins.historical_OHLC(\n\u001b[0m\u001b[1;32m      7\u001b[0m     \u001b[0mcoin_id\u001b[0m\u001b[0;34m=\u001b[0m\u001b[0mcoin\u001b[0m\u001b[0;34m,\u001b[0m\u001b[0;34m\u001b[0m\u001b[0;34m\u001b[0m\u001b[0m\n\u001b[1;32m      8\u001b[0m     \u001b[0mstart\u001b[0m\u001b[0;34m=\u001b[0m\u001b[0mdatetime\u001b[0m\u001b[0;34m.\u001b[0m\u001b[0mnow\u001b[0m\u001b[0;34m(\u001b[0m\u001b[0;34m)\u001b[0m \u001b[0;34m-\u001b[0m \u001b[0mtimedelta\u001b[0m\u001b[0;34m(\u001b[0m\u001b[0mweeks\u001b[0m\u001b[0;34m=\u001b[0m\u001b[0;36m4\u001b[0m\u001b[0;34m)\u001b[0m\u001b[0;34m,\u001b[0m\u001b[0;34m\u001b[0m\u001b[0;34m\u001b[0m\u001b[0m\n",
      "\u001b[0;32m/usr/local/anaconda3/lib/python3.8/site-packages/Coinpaprika/CoinpaprikaCoin.py\u001b[0m in \u001b[0;36mhistorical_OHLC\u001b[0;34m(coin_id, start, end, limit, quotes)\u001b[0m\n\u001b[1;32m    292\u001b[0m             \u001b[0;34m\"quotes\"\u001b[0m\u001b[0;34m:\u001b[0m \u001b[0;34m\",\"\u001b[0m\u001b[0;34m.\u001b[0m\u001b[0mjoin\u001b[0m\u001b[0;34m(\u001b[0m\u001b[0mquotes\u001b[0m\u001b[0;34m)\u001b[0m\u001b[0;34m\u001b[0m\u001b[0;34m\u001b[0m\u001b[0m\n\u001b[1;32m    293\u001b[0m         }\n\u001b[0;32m--> 294\u001b[0;31m         \u001b[0mentries\u001b[0m \u001b[0;34m=\u001b[0m \u001b[0mCoinpaprika\u001b[0m\u001b[0;34m.\u001b[0m\u001b[0mget\u001b[0m\u001b[0;34m(\u001b[0m\u001b[0;34mf\"/coins/{coin_id}/ohlcv/historical\"\u001b[0m\u001b[0;34m,\u001b[0m \u001b[0mparams\u001b[0m\u001b[0;34m=\u001b[0m\u001b[0mparams\u001b[0m\u001b[0;34m)\u001b[0m\u001b[0;34m\u001b[0m\u001b[0;34m\u001b[0m\u001b[0m\n\u001b[0m\u001b[1;32m    295\u001b[0m         \u001b[0;32mfor\u001b[0m \u001b[0mentry\u001b[0m \u001b[0;32min\u001b[0m \u001b[0mentries\u001b[0m\u001b[0;34m:\u001b[0m\u001b[0;34m\u001b[0m\u001b[0;34m\u001b[0m\u001b[0m\n\u001b[1;32m    296\u001b[0m             \u001b[0mCoinpaprika\u001b[0m\u001b[0;34m.\u001b[0m\u001b[0mconvert_date_in_dict\u001b[0m\u001b[0;34m(\u001b[0m\u001b[0mentry\u001b[0m\u001b[0;34m,\u001b[0m \u001b[0;34m\"time_open\"\u001b[0m\u001b[0;34m)\u001b[0m\u001b[0;34m\u001b[0m\u001b[0;34m\u001b[0m\u001b[0m\n",
      "\u001b[0;32m/usr/local/anaconda3/lib/python3.8/site-packages/Coinpaprika/Coinpaprika.py\u001b[0m in \u001b[0;36mget\u001b[0;34m(endpoint, params)\u001b[0m\n\u001b[1;32m     37\u001b[0m         \u001b[0mresponse\u001b[0m \u001b[0;34m=\u001b[0m \u001b[0mCoinpaprika\u001b[0m\u001b[0;34m.\u001b[0m\u001b[0msession\u001b[0m\u001b[0;34m.\u001b[0m\u001b[0mget\u001b[0m\u001b[0;34m(\u001b[0m\u001b[0mrequest_url\u001b[0m\u001b[0;34m)\u001b[0m\u001b[0;34m\u001b[0m\u001b[0;34m\u001b[0m\u001b[0m\n\u001b[1;32m     38\u001b[0m         \u001b[0;32mif\u001b[0m \u001b[0;32mnot\u001b[0m \u001b[0;36m200\u001b[0m \u001b[0;34m<=\u001b[0m \u001b[0mresponse\u001b[0m\u001b[0;34m.\u001b[0m\u001b[0mstatus_code\u001b[0m \u001b[0;34m<\u001b[0m \u001b[0;36m300\u001b[0m\u001b[0;34m:\u001b[0m\u001b[0;34m\u001b[0m\u001b[0;34m\u001b[0m\u001b[0m\n\u001b[0;32m---> 39\u001b[0;31m             \u001b[0;32mraise\u001b[0m \u001b[0mCoinpaprikaError\u001b[0m\u001b[0;34m(\u001b[0m\u001b[0mresponse\u001b[0m\u001b[0;34m,\u001b[0m \u001b[0mrequest_url\u001b[0m\u001b[0;34m)\u001b[0m\u001b[0;34m\u001b[0m\u001b[0;34m\u001b[0m\u001b[0m\n\u001b[0m\u001b[1;32m     40\u001b[0m         \u001b[0;32mreturn\u001b[0m \u001b[0mresponse\u001b[0m\u001b[0;34m.\u001b[0m\u001b[0mjson\u001b[0m\u001b[0;34m(\u001b[0m\u001b[0;34m)\u001b[0m\u001b[0;34m\u001b[0m\u001b[0;34m\u001b[0m\u001b[0m\n\u001b[1;32m     41\u001b[0m \u001b[0;34m\u001b[0m\u001b[0m\n",
      "\u001b[0;31mCoinpaprikaError\u001b[0m: CoinpaprikaAPIException<status_code=404 message='404 page not found\n' url='https://api.coinpaprika.com/v1/coins/['btc-bitcoin']/ohlcv/historical?start=1617348174&end=1619767374&limit=1&quotes=USD'>"
     ]
    }
   ],
   "source": [
    "from datetime import datetime, timedelta\n",
    "\n",
    "coin = ['btc-bitcoin']\n",
    "color = ['green']\n",
    "\n",
    "hist = api_client.coins.historical_OHLC(\n",
    "    coin_id=coin,\n",
    "    start=datetime.now() - timedelta(weeks=4),\n",
    "    end=datetime.now()\n",
    ")\n",
    "# TODO: \"clean up\" data (na's, outliers, etc.)"
   ]
  },
  {
   "cell_type": "code",
   "execution_count": 29,
   "metadata": {},
   "outputs": [
    {
     "ename": "KeyError",
     "evalue": "0",
     "output_type": "error",
     "traceback": [
      "\u001b[0;31m---------------------------------------------------------------------------\u001b[0m",
      "\u001b[0;31mKeyError\u001b[0m                                  Traceback (most recent call last)",
      "\u001b[0;32m<ipython-input-29-4e46b3064dac>\u001b[0m in \u001b[0;36m<module>\u001b[0;34m\u001b[0m\n\u001b[1;32m      2\u001b[0m \u001b[0;32mfor\u001b[0m \u001b[0mi\u001b[0m \u001b[0;32min\u001b[0m \u001b[0mrange\u001b[0m\u001b[0;34m(\u001b[0m\u001b[0;36m0\u001b[0m\u001b[0;34m,\u001b[0m\u001b[0mlen\u001b[0m\u001b[0;34m(\u001b[0m\u001b[0mhist\u001b[0m\u001b[0;34m)\u001b[0m\u001b[0;34m)\u001b[0m\u001b[0;34m:\u001b[0m\u001b[0;34m\u001b[0m\u001b[0;34m\u001b[0m\u001b[0m\n\u001b[1;32m      3\u001b[0m     \u001b[0;31m# 0: pdctPositive, 1: PDCT predicted difference closing tomorrow, 2: closing, 3: variance\u001b[0m\u001b[0;34m\u001b[0m\u001b[0;34m\u001b[0m\u001b[0;34m\u001b[0m\u001b[0m\n\u001b[0;32m----> 4\u001b[0;31m     \u001b[0mprint\u001b[0m\u001b[0;34m(\u001b[0m\u001b[0mhist\u001b[0m\u001b[0;34m[\u001b[0m\u001b[0mi\u001b[0m\u001b[0;34m]\u001b[0m\u001b[0;34m[\u001b[0m\u001b[0;36m0\u001b[0m\u001b[0;34m]\u001b[0m\u001b[0;34m)\u001b[0m\u001b[0;34m\u001b[0m\u001b[0;34m\u001b[0m\u001b[0m\n\u001b[0m\u001b[1;32m      5\u001b[0m     \u001b[0mvariance\u001b[0m \u001b[0;34m=\u001b[0m \u001b[0mhist\u001b[0m\u001b[0;34m[\u001b[0m\u001b[0mi\u001b[0m\u001b[0;34m]\u001b[0m\u001b[0;34m[\u001b[0m\u001b[0;34m'high'\u001b[0m\u001b[0;34m]\u001b[0m \u001b[0;34m-\u001b[0m \u001b[0mhist\u001b[0m\u001b[0;34m[\u001b[0m\u001b[0mi\u001b[0m\u001b[0;34m]\u001b[0m\u001b[0;34m[\u001b[0m\u001b[0;34m'low'\u001b[0m\u001b[0;34m]\u001b[0m\u001b[0;34m\u001b[0m\u001b[0;34m\u001b[0m\u001b[0m\n\u001b[1;32m      6\u001b[0m     \u001b[0;32mif\u001b[0m\u001b[0;34m(\u001b[0m\u001b[0mi\u001b[0m \u001b[0;34m==\u001b[0m \u001b[0;36m0\u001b[0m\u001b[0;34m)\u001b[0m\u001b[0;34m:\u001b[0m\u001b[0;34m\u001b[0m\u001b[0;34m\u001b[0m\u001b[0m\n",
      "\u001b[0;31mKeyError\u001b[0m: 0"
     ]
    }
   ],
   "source": [
    "alldata = []\n",
    "for i in range(0,len(hist)):\n",
    "    # 0: pdctPositive, 1: PDCT predicted difference closing tomorrow, 2: closing, 3: variance\n",
    "    print(hist[i][0])\n",
    "    variance = hist[i]['high'] - hist[i]['low']\n",
    "    if(i == 0):\n",
    "        pdct = hist[i]['closing']\n",
    "    else:\n",
    "        pdct = alldata[i]['closing'] - alldata[i-1]['closing']\n",
    "        \n",
    "    pdctPositive = pdct > 0\n",
    "    alldata.append(pdctPositive, pdct, hist[i]['closing'], variance)"
   ]
  },
  {
   "cell_type": "code",
   "execution_count": null,
   "metadata": {},
   "outputs": [],
   "source": []
  },
  {
   "cell_type": "code",
   "execution_count": 9,
   "metadata": {},
   "outputs": [
    {
     "data": {
      "text/plain": [
       "[{'time_open': datetime.datetime(2021, 4, 2, 0, 0),\n",
       "  'time_close': datetime.datetime(2021, 4, 2, 23, 59, 59),\n",
       "  'open': 58771.10234212,\n",
       "  'high': 60086.03463254,\n",
       "  'low': 58600.22488015,\n",
       "  'close': 59035.72783202,\n",
       "  'volume': 53148416451,\n",
       "  'market_cap': 1097317485131},\n",
       " {'time_open': datetime.datetime(2021, 4, 3, 0, 0),\n",
       "  'time_close': datetime.datetime(2021, 4, 3, 23, 59, 59),\n",
       "  'open': 58940.44464841,\n",
       "  'high': 59666.66386691,\n",
       "  'low': 57144.00903996,\n",
       "  'close': 57165.97146184,\n",
       "  'volume': 52699595818,\n",
       "  'market_cap': 1100531208299},\n",
       " {'time_open': datetime.datetime(2021, 4, 4, 0, 0),\n",
       "  'time_close': datetime.datetime(2021, 4, 4, 23, 59, 59),\n",
       "  'open': 57132.04533469,\n",
       "  'high': 58478.53240678,\n",
       "  'low': 56606.44484305,\n",
       "  'close': 58159.06136439,\n",
       "  'volume': 45169519363,\n",
       "  'market_cap': 1066810971222},\n",
       " {'time_open': datetime.datetime(2021, 4, 5, 0, 0),\n",
       "  'time_close': datetime.datetime(2021, 4, 5, 23, 59, 59),\n",
       "  'open': 58180.21423583,\n",
       "  'high': 60557.41667825,\n",
       "  'low': 56890.09382901,\n",
       "  'close': 60557.41667825,\n",
       "  'volume': 56841341137,\n",
       "  'market_cap': 1086436957564},\n",
       " {'time_open': datetime.datetime(2021, 4, 6, 0, 0),\n",
       "  'time_close': datetime.datetime(2021, 4, 6, 23, 59, 59),\n",
       "  'open': 60585.24881408,\n",
       "  'high': 61069.39332651,\n",
       "  'low': 59524.98214338,\n",
       "  'close': 59852.59181622,\n",
       "  'volume': 61484542991,\n",
       "  'market_cap': 1131406802134},\n",
       " {'time_open': datetime.datetime(2021, 4, 7, 0, 0),\n",
       "  'time_close': datetime.datetime(2021, 4, 7, 23, 59, 59),\n",
       "  'open': 59916.70486231,\n",
       "  'high': 60213.19765199,\n",
       "  'low': 55677.68200788,\n",
       "  'close': 56126.87261319,\n",
       "  'volume': 67566027950,\n",
       "  'market_cap': 1118975919573},\n",
       " {'time_open': datetime.datetime(2021, 4, 8, 0, 0),\n",
       "  'time_close': datetime.datetime(2021, 4, 8, 23, 59, 59),\n",
       "  'open': 55970.47116621,\n",
       "  'high': 58121.64000879,\n",
       "  'low': 55970.47116621,\n",
       "  'close': 58068.48483979,\n",
       "  'volume': 48456145870,\n",
       "  'market_cap': 1045332840558},\n",
       " {'time_open': datetime.datetime(2021, 4, 9, 0, 0),\n",
       "  'time_close': datetime.datetime(2021, 4, 9, 23, 59, 59),\n",
       "  'open': 58116.58706977,\n",
       "  'high': 58888.95888494,\n",
       "  'low': 57815.54808765,\n",
       "  'close': 58201.91217718,\n",
       "  'volume': 42382612463,\n",
       "  'market_cap': 1085463837507},\n",
       " {'time_open': datetime.datetime(2021, 4, 10, 0, 0),\n",
       "  'time_close': datetime.datetime(2021, 4, 10, 23, 59, 59),\n",
       "  'open': 58185.87823507,\n",
       "  'high': 61130.29733742,\n",
       "  'low': 58008.91762897,\n",
       "  'close': 59828.45657879,\n",
       "  'volume': 58820424143,\n",
       "  'market_cap': 1086812183906},\n",
       " {'time_open': datetime.datetime(2021, 4, 11, 0, 0),\n",
       "  'time_close': datetime.datetime(2021, 4, 11, 23, 59, 59),\n",
       "  'open': 59800.38414242,\n",
       "  'high': 60679.08007873,\n",
       "  'low': 59391.37605425,\n",
       "  'close': 60056.72572604,\n",
       "  'volume': 45516101874,\n",
       "  'market_cap': 1117027820501},\n",
       " {'time_open': datetime.datetime(2021, 4, 12, 0, 0),\n",
       "  'time_close': datetime.datetime(2021, 4, 12, 23, 59, 59),\n",
       "  'open': 60101.74130276,\n",
       "  'high': 61403.57378207,\n",
       "  'low': 59756.35863939,\n",
       "  'close': 59978.88776531,\n",
       "  'volume': 49986299659,\n",
       "  'market_cap': 1122710684729},\n",
       " {'time_open': datetime.datetime(2021, 4, 13, 0, 0),\n",
       "  'time_close': datetime.datetime(2021, 4, 13, 23, 59, 59),\n",
       "  'open': 59933.20179634,\n",
       "  'high': 63818.41385621,\n",
       "  'low': 59926.00777664,\n",
       "  'close': 63608.17519132,\n",
       "  'volume': 65659269642,\n",
       "  'market_cap': 1119616997346},\n",
       " {'time_open': datetime.datetime(2021, 4, 14, 0, 0),\n",
       "  'time_close': datetime.datetime(2021, 4, 14, 23, 59, 59),\n",
       "  'open': 63675.34962432,\n",
       "  'high': 65028.97108592,\n",
       "  'low': 61806.6021324,\n",
       "  'close': 62866.96092455,\n",
       "  'volume': 74122397809,\n",
       "  'market_cap': 1189580462018},\n",
       " {'time_open': datetime.datetime(2021, 4, 15, 0, 0),\n",
       "  'time_close': datetime.datetime(2021, 4, 15, 23, 59, 59),\n",
       "  'open': 63099.63424277,\n",
       "  'high': 63917.17750424,\n",
       "  'low': 62214.96971308,\n",
       "  'close': 63448.50309793,\n",
       "  'volume': 61186914172,\n",
       "  'market_cap': 1178877846630},\n",
       " {'time_open': datetime.datetime(2021, 4, 16, 0, 0),\n",
       "  'time_close': datetime.datetime(2021, 4, 16, 23, 59, 59),\n",
       "  'open': 63461.2689498,\n",
       "  'high': 63940.01129464,\n",
       "  'low': 61432.29074725,\n",
       "  'close': 63031.56937431,\n",
       "  'volume': 84277913904,\n",
       "  'market_cap': 1185702797167},\n",
       " {'time_open': datetime.datetime(2021, 4, 17, 0, 0),\n",
       "  'time_close': datetime.datetime(2021, 4, 17, 23, 59, 59),\n",
       "  'open': 63064.64549809,\n",
       "  'high': 63839.32259922,\n",
       "  'low': 61504.05496726,\n",
       "  'close': 61852.37614616,\n",
       "  'volume': 65487709248,\n",
       "  'market_cap': 1178332945425},\n",
       " {'time_open': datetime.datetime(2021, 4, 18, 0, 0),\n",
       "  'time_close': datetime.datetime(2021, 4, 18, 23, 59, 59),\n",
       "  'open': 61725.34527814,\n",
       "  'high': 61992.3367964,\n",
       "  'low': 54066.01634074,\n",
       "  'close': 56595.12797689,\n",
       "  'volume': 99540576213,\n",
       "  'market_cap': 1153343878704},\n",
       " {'time_open': datetime.datetime(2021, 4, 19, 0, 0),\n",
       "  'time_close': datetime.datetime(2021, 4, 19, 23, 59, 59),\n",
       "  'open': 56655.52183835,\n",
       "  'high': 58090.47539546,\n",
       "  'low': 56137.74642598,\n",
       "  'close': 57000.38002992,\n",
       "  'volume': 63498973619,\n",
       "  'market_cap': 1058657999131},\n",
       " {'time_open': datetime.datetime(2021, 4, 20, 0, 0),\n",
       "  'time_close': datetime.datetime(2021, 4, 20, 23, 59, 59),\n",
       "  'open': 56902.93947094,\n",
       "  'high': 57257.5641834,\n",
       "  'low': 53967.52845476,\n",
       "  'close': 56581.48865398,\n",
       "  'volume': 63704578986,\n",
       "  'market_cap': 1063316095588},\n",
       " {'time_open': datetime.datetime(2021, 4, 21, 0, 0),\n",
       "  'time_close': datetime.datetime(2021, 4, 21, 23, 59, 59),\n",
       "  'open': 56501.0433536,\n",
       "  'high': 57074.55132338,\n",
       "  'low': 53977.79801667,\n",
       "  'close': 54066.09334042,\n",
       "  'volume': 51537405852,\n",
       "  'market_cap': 1055850873941},\n",
       " {'time_open': datetime.datetime(2021, 4, 22, 0, 0),\n",
       "  'time_close': datetime.datetime(2021, 4, 22, 23, 59, 59),\n",
       "  'open': 53947.17637563,\n",
       "  'high': 55466.95660491,\n",
       "  'low': 51206.47264912,\n",
       "  'close': 51961.16087988,\n",
       "  'volume': 74456067682,\n",
       "  'market_cap': 1008160084756},\n",
       " {'time_open': datetime.datetime(2021, 4, 23, 0, 0),\n",
       "  'time_close': datetime.datetime(2021, 4, 23, 23, 59, 59),\n",
       "  'open': 51891.20254026,\n",
       "  'high': 52121.33162449,\n",
       "  'low': 48020.4887711,\n",
       "  'close': 51133.5463416,\n",
       "  'volume': 86683904265,\n",
       "  'market_cap': 969784928728},\n",
       " {'time_open': datetime.datetime(2021, 4, 24, 0, 0),\n",
       "  'time_close': datetime.datetime(2021, 4, 24, 23, 59, 59),\n",
       "  'open': 51181.14529703,\n",
       "  'high': 51218.56835707,\n",
       "  'low': 49068.66496161,\n",
       "  'close': 50264.17175558,\n",
       "  'volume': 46128933989,\n",
       "  'market_cap': 956557692200},\n",
       " {'time_open': datetime.datetime(2021, 4, 25, 0, 0),\n",
       "  'time_close': datetime.datetime(2021, 4, 25, 23, 59, 59),\n",
       "  'open': 50253.50756601,\n",
       "  'high': 50614.1721157,\n",
       "  'low': 47618.29980686,\n",
       "  'close': 49064.5214996,\n",
       "  'volume': 45175019415,\n",
       "  'market_cap': 939265394316},\n",
       " {'time_open': datetime.datetime(2021, 4, 26, 0, 0),\n",
       "  'time_close': datetime.datetime(2021, 4, 26, 23, 59, 59),\n",
       "  'open': 49129.49162877,\n",
       "  'high': 54398.60711922,\n",
       "  'low': 49129.49162877,\n",
       "  'close': 54059.77744163,\n",
       "  'volume': 56649521382,\n",
       "  'market_cap': 918301141527},\n",
       " {'time_open': datetime.datetime(2021, 4, 27, 0, 0),\n",
       "  'time_close': datetime.datetime(2021, 4, 27, 23, 59, 59),\n",
       "  'open': 54100.92195077,\n",
       "  'high': 55434.14428518,\n",
       "  'low': 53499.70254364,\n",
       "  'close': 55047.31177054,\n",
       "  'volume': 46839526029,\n",
       "  'market_cap': 1011262548242},\n",
       " {'time_open': datetime.datetime(2021, 4, 28, 0, 0),\n",
       "  'time_close': datetime.datetime(2021, 4, 28, 23, 59, 59),\n",
       "  'open': 55102.36613308,\n",
       "  'high': 56287.29833173,\n",
       "  'low': 54226.99317747,\n",
       "  'close': 54948.96131554,\n",
       "  'volume': 46898403902,\n",
       "  'market_cap': 1030030954629},\n",
       " {'time_open': datetime.datetime(2021, 4, 29, 0, 0),\n",
       "  'time_close': datetime.datetime(2021, 4, 29, 23, 59, 59),\n",
       "  'open': 54990.84049509,\n",
       "  'high': 55209.34054676,\n",
       "  'low': 52584.6101725,\n",
       "  'close': 53691.89549304,\n",
       "  'volume': 46170732247,\n",
       "  'market_cap': 1027994647902},\n",
       " {'time_open': datetime.datetime(2021, 4, 30, 0, 0),\n",
       "  'time_close': datetime.datetime(2021, 4, 30, 6, 36),\n",
       "  'open': 53664.53332437,\n",
       "  'high': 54404.47835139,\n",
       "  'low': 53310.3054554,\n",
       "  'close': 54404.47835139,\n",
       "  'volume': 47588246565,\n",
       "  'market_cap': 1003241707164}]"
      ]
     },
     "execution_count": 9,
     "metadata": {},
     "output_type": "execute_result"
    }
   ],
   "source": [
    "hists[0]"
   ]
  },
  {
   "cell_type": "code",
   "execution_count": 5,
   "metadata": {
    "scrolled": true
   },
   "outputs": [
    {
     "data": {
      "image/png": "[encoded data removed]",
      "text/plain": [
       "<Figure size 432x288 with 1 Axes>"
      ]
     },
     "metadata": {
      "needs_background": "light"
     },
     "output_type": "display_data"
    }
   ],
   "source": [
    "import matplotlib.pyplot as plt\n",
    "\n",
    "for i in range(0, len(allclosings)):\n",
    "    plt.plot(allclosings[i], colors[i])\n",
    "plt.grid(True)\n",
    "plt.show()"
   ]
  },
  {
   "cell_type": "markdown",
   "metadata": {},
   "source": [
    "moving average golden cross ()"
   ]
  },
  {
   "cell_type": "markdown",
   "metadata": {},
   "source": [
    "## Ziel: Klassifikation: Ist der nächste Tick (Tag) höher oder tiefer als heute\n",
    "> Klassifikationstree"
   ]
  },
  {
   "cell_type": "markdown",
   "metadata": {},
   "source": [
    "### Daten:\n",
    "- Close heute\n",
    "- Varianz heute (high - low)\n",
    "- Moving Average (letztes Jahr)\n",
    "- News Coverage (Google Trends) > pytrends\n",
    "\n",
    "### Trainingsdatenset:\n",
    "- von Paprikacoin API"
   ]
  },
  {
   "cell_type": "code",
   "execution_count": null,
   "metadata": {},
   "outputs": [],
   "source": [
    "# CART\n",
    "numberOfTestData = int(0.2 * len(alldata))\n",
    "\n",
    "feature_cols = ['closing', 'variance']\n",
    "\n",
    "X = alldata[feature_cols]               # Features\n",
    "y = alldata['closing']                  # Target variable\n",
    "\n",
    "X_train = X[:-numberOfTestData]\n",
    "X_test  = X[-numberOfTestData:]\n",
    "y_train = y[:-numberOfTestData]\n",
    "y_test  = y[-numberOfTestData:]\n",
    "\n",
    "# Create Decision Tree classifer object\n",
    "clf = DecisionTreeClassifier(max_depth=5)\n",
    "\n",
    "# Train Decision Tree Classifer\n",
    "clf = clf.fit(X_train, y_train)\n",
    "\n",
    "# Predict the response for test dataset\n",
    "y_pred = clf.predict(X_test)\n",
    "\n",
    "# Model Accuracy, how often is the classifier correct?\n",
    "print(\"Accuracy:\", metrics.accuracy_score(y_test, y_pred).round(4))"
   ]
  }
 ],
 "metadata": {
  "kernelspec": {
   "display_name": "Python 3",
   "language": "python",
   "name": "python3"
  },
  "language_info": {
   "codemirror_mode": {
    "name": "ipython",
    "version": 3
   },
   "file_extension": ".py",
   "mimetype": "text/x-python",
   "name": "python",
   "nbconvert_exporter": "python",
   "pygments_lexer": "ipython3",
   "version": "3.8.5"
  }
 },
 "nbformat": 4,
 "nbformat_minor": 4
}
