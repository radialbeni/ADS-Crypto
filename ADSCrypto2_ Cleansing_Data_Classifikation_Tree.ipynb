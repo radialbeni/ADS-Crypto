{
 "cells": [
  {
   "cell_type": "markdown",
   "metadata": {},
   "source": [
    "### Step 1: Import Data with CoinPaprika API (https://api.coinpaprika.com/)"
   ]
  },
  {
   "cell_type": "code",
   "execution_count": 62,
   "metadata": {},
   "outputs": [
    {
     "name": "stdout",
     "output_type": "stream",
     "text": [
      "{'market_cap_usd': 2326205413767, 'volume_24h_usd': 600476707792, 'bitcoin_dominance_percentage': 46.02, 'cryptocurrencies_number': 2429, 'market_cap_ath_value': 2328874747014, 'market_cap_ath_date': '2021-05-06T10:30:00Z', 'volume_24h_ath_value': 1388195572070, 'volume_24h_ath_date': '2021-05-02T17:00:00Z', 'volume_24h_percent_from_ath': -56.74, 'volume_24h_percent_to_ath': 131.18, 'market_cap_change_24h': 1.67, 'volume_24h_change_24h': 30.24, 'last_updated': 1620380597}\n",
      "btc-bitcoin\n",
      "eth-ethereum\n",
      "bnb-binance-coin\n",
      "doge-dogecoin\n",
      "xrp-xrp\n",
      "usdt-tether\n",
      "ada-cardano\n",
      "dot-polkadot\n",
      "bch-bitcoin-cash\n",
      "ltc-litecoin\n"
     ]
    }
   ],
   "source": [
    "import Coinpaprika\n",
    "import pandas as pd \n",
    "import numpy as np\n",
    "from pytrends.request import TrendReq\n",
    "from datetime import datetime, timedelta\n",
    "import matplotlib.pyplot as plt\n",
    "\n",
    "#view all data and currency we get from the API\n",
    "\n",
    "api_client = Coinpaprika.Client()\n",
    "market_overview = api_client.global_market_overview()\n",
    "\n",
    "print(market_overview)\n",
    "\n",
    "all_coins = api_client.coins()\n",
    "for i  in range(0, 10):\n",
    "    print(all_coins[i]['id'])"
   ]
  },
  {
   "cell_type": "markdown",
   "metadata": {},
   "source": [
    "## get historical data "
   ]
  },
  {
   "cell_type": "code",
   "execution_count": 63,
   "metadata": {},
   "outputs": [],
   "source": [
    "#view historical data from the cryptocurrency (=Bitcoin) we want to predict.\n",
    "\n",
    "coin = 'btc-bitcoin'\n",
    "color = 'green'\n",
    "\n",
    "hist = api_client.coins.historical_OHLC(\n",
    "    coin_id=coin,\n",
    "    start=datetime.now() - timedelta(weeks=4),\n",
    "    end=datetime.now()\n",
    ")\n",
    "# TODO: \"clean up\" data (na's, outliers, etc.)"
   ]
  },
  {
   "cell_type": "code",
   "execution_count": 64,
   "metadata": {},
   "outputs": [
    {
     "name": "stdout",
     "output_type": "stream",
     "text": [
      "0     False\n",
      "1     False\n",
      "2     False\n",
      "3     False\n",
      "4     False\n",
      "5     False\n",
      "6     False\n",
      "7     False\n",
      "8     False\n",
      "9     False\n",
      "10    False\n",
      "11    False\n",
      "12    False\n",
      "13    False\n",
      "14    False\n",
      "15    False\n",
      "16    False\n",
      "17    False\n",
      "18    False\n",
      "19    False\n",
      "20    False\n",
      "21    False\n",
      "22    False\n",
      "23    False\n",
      "24    False\n",
      "25    False\n",
      "26    False\n",
      "27    False\n",
      "28    False\n",
      "dtype: bool\n",
      "\n",
      "Series([], dtype: object)\n"
     ]
    }
   ],
   "source": [
    "#Cleansing Serie:\n",
    "\n",
    "ser = pd.Series(hist)\n",
    "\n",
    "# Print the whole dataset including missing values:\n",
    "print(ser.isnull())\n",
    "\n",
    "# Print a separation row:\n",
    "print()\n",
    "\n",
    "# Show only missing values:\n",
    "print(ser[ser.isnull()])\n",
    "\n",
    "#no missing data "
   ]
  },
  {
   "cell_type": "code",
   "execution_count": 65,
   "metadata": {},
   "outputs": [
    {
     "data": {
      "text/plain": [
       "0    False\n",
       "dtype: bool"
      ]
     },
     "execution_count": 65,
     "metadata": {},
     "output_type": "execute_result"
    }
   ],
   "source": [
    "# find duplicates -> only check the dates \n",
    "\n",
    "duplicate = pd.Series('time_open')\n",
    "duplicate.duplicated(keep = False) # keep = False -> mark every duplicate as True\n",
    "# no duplicates"
   ]
  },
  {
   "cell_type": "code",
   "execution_count": 66,
   "metadata": {},
   "outputs": [
    {
     "data": {
      "text/html": [
       "<div>\n",
       "<style scoped>\n",
       "    .dataframe tbody tr th:only-of-type {\n",
       "        vertical-align: middle;\n",
       "    }\n",
       "\n",
       "    .dataframe tbody tr th {\n",
       "        vertical-align: top;\n",
       "    }\n",
       "\n",
       "    .dataframe thead th {\n",
       "        text-align: right;\n",
       "    }\n",
       "</style>\n",
       "<table border=\"1\" class=\"dataframe\">\n",
       "  <thead>\n",
       "    <tr style=\"text-align: right;\">\n",
       "      <th></th>\n",
       "      <th>time_open</th>\n",
       "      <th>time_close</th>\n",
       "      <th>open</th>\n",
       "      <th>high</th>\n",
       "      <th>low</th>\n",
       "      <th>close</th>\n",
       "      <th>volume</th>\n",
       "      <th>market_cap</th>\n",
       "    </tr>\n",
       "  </thead>\n",
       "  <tbody>\n",
       "    <tr>\n",
       "      <th>0</th>\n",
       "      <td>2021-04-09</td>\n",
       "      <td>2021-04-09 23:59:59</td>\n",
       "      <td>58116.59</td>\n",
       "      <td>58888.96</td>\n",
       "      <td>57815.55</td>\n",
       "      <td>58201.91</td>\n",
       "      <td>42382612463</td>\n",
       "      <td>1085463837507</td>\n",
       "    </tr>\n",
       "    <tr>\n",
       "      <th>1</th>\n",
       "      <td>2021-04-10</td>\n",
       "      <td>2021-04-10 23:59:59</td>\n",
       "      <td>58185.88</td>\n",
       "      <td>61130.30</td>\n",
       "      <td>58008.92</td>\n",
       "      <td>59828.46</td>\n",
       "      <td>58820424143</td>\n",
       "      <td>1086812183906</td>\n",
       "    </tr>\n",
       "    <tr>\n",
       "      <th>2</th>\n",
       "      <td>2021-04-11</td>\n",
       "      <td>2021-04-11 23:59:59</td>\n",
       "      <td>59800.38</td>\n",
       "      <td>60679.08</td>\n",
       "      <td>59391.38</td>\n",
       "      <td>60056.73</td>\n",
       "      <td>45516101874</td>\n",
       "      <td>1117027820501</td>\n",
       "    </tr>\n",
       "    <tr>\n",
       "      <th>3</th>\n",
       "      <td>2021-04-12</td>\n",
       "      <td>2021-04-12 23:59:59</td>\n",
       "      <td>60101.74</td>\n",
       "      <td>61403.57</td>\n",
       "      <td>59756.36</td>\n",
       "      <td>59978.89</td>\n",
       "      <td>49986299659</td>\n",
       "      <td>1122710684729</td>\n",
       "    </tr>\n",
       "    <tr>\n",
       "      <th>4</th>\n",
       "      <td>2021-04-13</td>\n",
       "      <td>2021-04-13 23:59:59</td>\n",
       "      <td>59933.20</td>\n",
       "      <td>63818.41</td>\n",
       "      <td>59926.01</td>\n",
       "      <td>63608.18</td>\n",
       "      <td>65659269642</td>\n",
       "      <td>1119616997346</td>\n",
       "    </tr>\n",
       "  </tbody>\n",
       "</table>\n",
       "</div>"
      ],
      "text/plain": [
       "   time_open          time_close     open     high      low    close  \\\n",
       "0 2021-04-09 2021-04-09 23:59:59 58116.59 58888.96 57815.55 58201.91   \n",
       "1 2021-04-10 2021-04-10 23:59:59 58185.88 61130.30 58008.92 59828.46   \n",
       "2 2021-04-11 2021-04-11 23:59:59 59800.38 60679.08 59391.38 60056.73   \n",
       "3 2021-04-12 2021-04-12 23:59:59 60101.74 61403.57 59756.36 59978.89   \n",
       "4 2021-04-13 2021-04-13 23:59:59 59933.20 63818.41 59926.01 63608.18   \n",
       "\n",
       "        volume     market_cap  \n",
       "0  42382612463  1085463837507  \n",
       "1  58820424143  1086812183906  \n",
       "2  45516101874  1117027820501  \n",
       "3  49986299659  1122710684729  \n",
       "4  65659269642  1119616997346  "
      ]
     },
     "execution_count": 66,
     "metadata": {},
     "output_type": "execute_result"
    }
   ],
   "source": [
    "# time series to dataframe\n",
    "df_hist = pd.DataFrame(hist)\n",
    "df_hist.head()"
   ]
  },
  {
   "cell_type": "code",
   "execution_count": 72,
   "metadata": {},
   "outputs": [
    {
     "name": "stderr",
     "output_type": "stream",
     "text": [
      "/Users/laurafromm/opt/anaconda3/lib/python3.8/site-packages/seaborn/_decorators.py:36: FutureWarning: Pass the following variable as a keyword arg: x. From version 0.12, the only valid positional argument will be `data`, and passing other arguments without an explicit keyword will result in an error or misinterpretation.\n",
      "  warnings.warn(\n"
     ]
    },
    {
     "data": {
      "image/png": "[encoded data removed]",
      "text/plain": [
       "<Figure size 576x288 with 1 Axes>"
      ]
     },
     "metadata": {},
     "output_type": "display_data"
    }
   ],
   "source": [
    "# detect outliers  (https://www.geeksforgeeks.org/detect-and-remove-the-outliers-using-python/)\n",
    "import seaborn as sns\n",
    "sns.set_theme(style=\"whitegrid\")\n",
    "sns.boxplot(df_hist['close'])\n",
    "sns.set(rc={'figure.figsize':(8,4)})\n",
    "# show points\n",
    "#ax = sns.boxplot(x=\"close\", data=hist)\n",
    "#ax = sns.swarmplot(x=\"close\", data=hist, color=\".25\")\n",
    "\n",
    "#no outliers"
   ]
  },
  {
   "cell_type": "code",
   "execution_count": 73,
   "metadata": {},
   "outputs": [
    {
     "data": {
      "text/html": [
       "<div>\n",
       "<style scoped>\n",
       "    .dataframe tbody tr th:only-of-type {\n",
       "        vertical-align: middle;\n",
       "    }\n",
       "\n",
       "    .dataframe tbody tr th {\n",
       "        vertical-align: top;\n",
       "    }\n",
       "\n",
       "    .dataframe thead th {\n",
       "        text-align: right;\n",
       "    }\n",
       "</style>\n",
       "<table border=\"1\" class=\"dataframe\">\n",
       "  <thead>\n",
       "    <tr style=\"text-align: right;\">\n",
       "      <th></th>\n",
       "      <th>open</th>\n",
       "      <th>high</th>\n",
       "      <th>low</th>\n",
       "      <th>close</th>\n",
       "      <th>volume</th>\n",
       "      <th>market_cap</th>\n",
       "    </tr>\n",
       "  </thead>\n",
       "  <tbody>\n",
       "    <tr>\n",
       "      <th>count</th>\n",
       "      <td>29.00</td>\n",
       "      <td>29.00</td>\n",
       "      <td>29.00</td>\n",
       "      <td>29.00</td>\n",
       "      <td>29.00</td>\n",
       "      <td>29.00</td>\n",
       "    </tr>\n",
       "    <tr>\n",
       "      <th>mean</th>\n",
       "      <td>57003.26</td>\n",
       "      <td>58385.50</td>\n",
       "      <td>55451.65</td>\n",
       "      <td>56985.11</td>\n",
       "      <td>59775143771.14</td>\n",
       "      <td>1065333448334.38</td>\n",
       "    </tr>\n",
       "    <tr>\n",
       "      <th>std</th>\n",
       "      <td>3915.47</td>\n",
       "      <td>3798.31</td>\n",
       "      <td>4127.90</td>\n",
       "      <td>3894.33</td>\n",
       "      <td>15003217403.51</td>\n",
       "      <td>72982327599.38</td>\n",
       "    </tr>\n",
       "    <tr>\n",
       "      <th>min</th>\n",
       "      <td>49129.49</td>\n",
       "      <td>50614.17</td>\n",
       "      <td>47618.30</td>\n",
       "      <td>49064.52</td>\n",
       "      <td>38143757385.00</td>\n",
       "      <td>918301141527.00</td>\n",
       "    </tr>\n",
       "    <tr>\n",
       "      <th>25%</th>\n",
       "      <td>54100.92</td>\n",
       "      <td>56287.30</td>\n",
       "      <td>53499.70</td>\n",
       "      <td>54066.09</td>\n",
       "      <td>46839526029.00</td>\n",
       "      <td>1011262548242.00</td>\n",
       "    </tr>\n",
       "    <tr>\n",
       "      <th>50%</th>\n",
       "      <td>56902.94</td>\n",
       "      <td>58090.48</td>\n",
       "      <td>55553.51</td>\n",
       "      <td>57000.38</td>\n",
       "      <td>58820424143.00</td>\n",
       "      <td>1063316095588.00</td>\n",
       "    </tr>\n",
       "    <tr>\n",
       "      <th>75%</th>\n",
       "      <td>59800.38</td>\n",
       "      <td>61130.30</td>\n",
       "      <td>58008.92</td>\n",
       "      <td>59828.46</td>\n",
       "      <td>68021451153.00</td>\n",
       "      <td>1117027820501.00</td>\n",
       "    </tr>\n",
       "    <tr>\n",
       "      <th>max</th>\n",
       "      <td>63675.35</td>\n",
       "      <td>65028.97</td>\n",
       "      <td>62214.97</td>\n",
       "      <td>63608.18</td>\n",
       "      <td>99540576213.00</td>\n",
       "      <td>1189580462018.00</td>\n",
       "    </tr>\n",
       "  </tbody>\n",
       "</table>\n",
       "</div>"
      ],
      "text/plain": [
       "          open     high      low    close         volume       market_cap\n",
       "count    29.00    29.00    29.00    29.00          29.00            29.00\n",
       "mean  57003.26 58385.50 55451.65 56985.11 59775143771.14 1065333448334.38\n",
       "std    3915.47  3798.31  4127.90  3894.33 15003217403.51   72982327599.38\n",
       "min   49129.49 50614.17 47618.30 49064.52 38143757385.00  918301141527.00\n",
       "25%   54100.92 56287.30 53499.70 54066.09 46839526029.00 1011262548242.00\n",
       "50%   56902.94 58090.48 55553.51 57000.38 58820424143.00 1063316095588.00\n",
       "75%   59800.38 61130.30 58008.92 59828.46 68021451153.00 1117027820501.00\n",
       "max   63675.35 65028.97 62214.97 63608.18 99540576213.00 1189580462018.00"
      ]
     },
     "execution_count": 73,
     "metadata": {},
     "output_type": "execute_result"
    }
   ],
   "source": [
    "pd.options.display.float_format = '{:.2f}'.format\n",
    "df = pd.DataFrame(df_hist)\n",
    "df.describe()"
   ]
  },
  {
   "cell_type": "code",
   "execution_count": 74,
   "metadata": {},
   "outputs": [
    {
     "data": {
      "text/plain": [
       "<AxesSubplot:>"
      ]
     },
     "execution_count": 74,
     "metadata": {},
     "output_type": "execute_result"
    },
    {
     "data": {
      "image/png": "[encoded data removed]",
      "text/plain": [
       "<Figure size 720x360 with 1 Axes>"
      ]
     },
     "metadata": {},
     "output_type": "display_data"
    }
   ],
   "source": [
    "fig, axes = plt.subplots(nrows=1, ncols=1, figsize=(10, 5))\n",
    "df.boxplot(ax=axes)"
   ]
  },
  {
   "cell_type": "code",
   "execution_count": 75,
   "metadata": {},
   "outputs": [
    {
     "data": {
      "text/html": [
       "<div>\n",
       "<style scoped>\n",
       "    .dataframe tbody tr th:only-of-type {\n",
       "        vertical-align: middle;\n",
       "    }\n",
       "\n",
       "    .dataframe tbody tr th {\n",
       "        vertical-align: top;\n",
       "    }\n",
       "\n",
       "    .dataframe thead th {\n",
       "        text-align: right;\n",
       "    }\n",
       "</style>\n",
       "<table border=\"1\" class=\"dataframe\">\n",
       "  <thead>\n",
       "    <tr style=\"text-align: right;\">\n",
       "      <th></th>\n",
       "      <th>time_open</th>\n",
       "      <th>time_close</th>\n",
       "      <th>open</th>\n",
       "      <th>high</th>\n",
       "      <th>low</th>\n",
       "      <th>close</th>\n",
       "    </tr>\n",
       "  </thead>\n",
       "  <tbody>\n",
       "    <tr>\n",
       "      <th>0</th>\n",
       "      <td>2021-04-09</td>\n",
       "      <td>2021-04-09 23:59:59</td>\n",
       "      <td>58116.59</td>\n",
       "      <td>58888.96</td>\n",
       "      <td>57815.55</td>\n",
       "      <td>58201.91</td>\n",
       "    </tr>\n",
       "    <tr>\n",
       "      <th>1</th>\n",
       "      <td>2021-04-10</td>\n",
       "      <td>2021-04-10 23:59:59</td>\n",
       "      <td>58185.88</td>\n",
       "      <td>61130.30</td>\n",
       "      <td>58008.92</td>\n",
       "      <td>59828.46</td>\n",
       "    </tr>\n",
       "    <tr>\n",
       "      <th>2</th>\n",
       "      <td>2021-04-11</td>\n",
       "      <td>2021-04-11 23:59:59</td>\n",
       "      <td>59800.38</td>\n",
       "      <td>60679.08</td>\n",
       "      <td>59391.38</td>\n",
       "      <td>60056.73</td>\n",
       "    </tr>\n",
       "    <tr>\n",
       "      <th>3</th>\n",
       "      <td>2021-04-12</td>\n",
       "      <td>2021-04-12 23:59:59</td>\n",
       "      <td>60101.74</td>\n",
       "      <td>61403.57</td>\n",
       "      <td>59756.36</td>\n",
       "      <td>59978.89</td>\n",
       "    </tr>\n",
       "    <tr>\n",
       "      <th>4</th>\n",
       "      <td>2021-04-13</td>\n",
       "      <td>2021-04-13 23:59:59</td>\n",
       "      <td>59933.20</td>\n",
       "      <td>63818.41</td>\n",
       "      <td>59926.01</td>\n",
       "      <td>63608.18</td>\n",
       "    </tr>\n",
       "    <tr>\n",
       "      <th>5</th>\n",
       "      <td>2021-04-14</td>\n",
       "      <td>2021-04-14 23:59:59</td>\n",
       "      <td>63675.35</td>\n",
       "      <td>65028.97</td>\n",
       "      <td>61806.60</td>\n",
       "      <td>62866.96</td>\n",
       "    </tr>\n",
       "    <tr>\n",
       "      <th>6</th>\n",
       "      <td>2021-04-15</td>\n",
       "      <td>2021-04-15 23:59:59</td>\n",
       "      <td>63099.63</td>\n",
       "      <td>63917.18</td>\n",
       "      <td>62214.97</td>\n",
       "      <td>63448.50</td>\n",
       "    </tr>\n",
       "    <tr>\n",
       "      <th>7</th>\n",
       "      <td>2021-04-16</td>\n",
       "      <td>2021-04-16 23:59:59</td>\n",
       "      <td>63461.27</td>\n",
       "      <td>63940.01</td>\n",
       "      <td>61432.29</td>\n",
       "      <td>63031.57</td>\n",
       "    </tr>\n",
       "    <tr>\n",
       "      <th>8</th>\n",
       "      <td>2021-04-17</td>\n",
       "      <td>2021-04-17 23:59:59</td>\n",
       "      <td>63064.65</td>\n",
       "      <td>63839.32</td>\n",
       "      <td>61504.05</td>\n",
       "      <td>61852.38</td>\n",
       "    </tr>\n",
       "    <tr>\n",
       "      <th>9</th>\n",
       "      <td>2021-04-18</td>\n",
       "      <td>2021-04-18 23:59:59</td>\n",
       "      <td>61725.35</td>\n",
       "      <td>61992.34</td>\n",
       "      <td>54066.02</td>\n",
       "      <td>56595.13</td>\n",
       "    </tr>\n",
       "    <tr>\n",
       "      <th>10</th>\n",
       "      <td>2021-04-19</td>\n",
       "      <td>2021-04-19 23:59:59</td>\n",
       "      <td>56655.52</td>\n",
       "      <td>58090.48</td>\n",
       "      <td>56137.75</td>\n",
       "      <td>57000.38</td>\n",
       "    </tr>\n",
       "    <tr>\n",
       "      <th>11</th>\n",
       "      <td>2021-04-20</td>\n",
       "      <td>2021-04-20 23:59:59</td>\n",
       "      <td>56902.94</td>\n",
       "      <td>57257.56</td>\n",
       "      <td>53967.53</td>\n",
       "      <td>56581.49</td>\n",
       "    </tr>\n",
       "    <tr>\n",
       "      <th>12</th>\n",
       "      <td>2021-04-21</td>\n",
       "      <td>2021-04-21 23:59:59</td>\n",
       "      <td>56501.04</td>\n",
       "      <td>57074.55</td>\n",
       "      <td>53977.80</td>\n",
       "      <td>54066.09</td>\n",
       "    </tr>\n",
       "    <tr>\n",
       "      <th>13</th>\n",
       "      <td>2021-04-22</td>\n",
       "      <td>2021-04-22 23:59:59</td>\n",
       "      <td>53947.18</td>\n",
       "      <td>55466.96</td>\n",
       "      <td>51206.47</td>\n",
       "      <td>51961.16</td>\n",
       "    </tr>\n",
       "    <tr>\n",
       "      <th>14</th>\n",
       "      <td>2021-04-23</td>\n",
       "      <td>2021-04-23 23:59:59</td>\n",
       "      <td>51891.20</td>\n",
       "      <td>52121.33</td>\n",
       "      <td>48020.49</td>\n",
       "      <td>51133.55</td>\n",
       "    </tr>\n",
       "    <tr>\n",
       "      <th>15</th>\n",
       "      <td>2021-04-24</td>\n",
       "      <td>2021-04-24 23:59:59</td>\n",
       "      <td>51181.15</td>\n",
       "      <td>51218.57</td>\n",
       "      <td>49068.66</td>\n",
       "      <td>50264.17</td>\n",
       "    </tr>\n",
       "    <tr>\n",
       "      <th>16</th>\n",
       "      <td>2021-04-25</td>\n",
       "      <td>2021-04-25 23:59:59</td>\n",
       "      <td>50253.51</td>\n",
       "      <td>50614.17</td>\n",
       "      <td>47618.30</td>\n",
       "      <td>49064.52</td>\n",
       "    </tr>\n",
       "    <tr>\n",
       "      <th>17</th>\n",
       "      <td>2021-04-26</td>\n",
       "      <td>2021-04-26 23:59:59</td>\n",
       "      <td>49129.49</td>\n",
       "      <td>54398.61</td>\n",
       "      <td>49129.49</td>\n",
       "      <td>54059.78</td>\n",
       "    </tr>\n",
       "    <tr>\n",
       "      <th>18</th>\n",
       "      <td>2021-04-27</td>\n",
       "      <td>2021-04-27 23:59:59</td>\n",
       "      <td>54100.92</td>\n",
       "      <td>55434.14</td>\n",
       "      <td>53499.70</td>\n",
       "      <td>55047.31</td>\n",
       "    </tr>\n",
       "    <tr>\n",
       "      <th>19</th>\n",
       "      <td>2021-04-28</td>\n",
       "      <td>2021-04-28 23:59:59</td>\n",
       "      <td>55102.37</td>\n",
       "      <td>56287.30</td>\n",
       "      <td>54226.99</td>\n",
       "      <td>54948.96</td>\n",
       "    </tr>\n",
       "    <tr>\n",
       "      <th>20</th>\n",
       "      <td>2021-04-29</td>\n",
       "      <td>2021-04-29 23:59:59</td>\n",
       "      <td>54990.84</td>\n",
       "      <td>55209.34</td>\n",
       "      <td>52584.61</td>\n",
       "      <td>53691.90</td>\n",
       "    </tr>\n",
       "    <tr>\n",
       "      <th>21</th>\n",
       "      <td>2021-04-30</td>\n",
       "      <td>2021-04-30 23:59:59</td>\n",
       "      <td>53664.53</td>\n",
       "      <td>57892.56</td>\n",
       "      <td>53310.31</td>\n",
       "      <td>57836.23</td>\n",
       "    </tr>\n",
       "    <tr>\n",
       "      <th>22</th>\n",
       "      <td>2021-05-01</td>\n",
       "      <td>2021-05-01 23:59:59</td>\n",
       "      <td>57830.63</td>\n",
       "      <td>58472.11</td>\n",
       "      <td>57264.76</td>\n",
       "      <td>57927.73</td>\n",
       "    </tr>\n",
       "    <tr>\n",
       "      <th>23</th>\n",
       "      <td>2021-05-02</td>\n",
       "      <td>2021-05-02 23:59:59</td>\n",
       "      <td>57929.53</td>\n",
       "      <td>57982.85</td>\n",
       "      <td>56290.07</td>\n",
       "      <td>56699.65</td>\n",
       "    </tr>\n",
       "    <tr>\n",
       "      <th>24</th>\n",
       "      <td>2021-05-03</td>\n",
       "      <td>2021-05-03 23:59:59</td>\n",
       "      <td>56680.61</td>\n",
       "      <td>58978.59</td>\n",
       "      <td>56680.61</td>\n",
       "      <td>57368.29</td>\n",
       "    </tr>\n",
       "    <tr>\n",
       "      <th>25</th>\n",
       "      <td>2021-05-04</td>\n",
       "      <td>2021-05-04 23:59:59</td>\n",
       "      <td>57256.41</td>\n",
       "      <td>57256.41</td>\n",
       "      <td>53775.19</td>\n",
       "      <td>53775.19</td>\n",
       "    </tr>\n",
       "    <tr>\n",
       "      <th>26</th>\n",
       "      <td>2021-05-05</td>\n",
       "      <td>2021-05-05 23:59:59</td>\n",
       "      <td>53643.45</td>\n",
       "      <td>58212.00</td>\n",
       "      <td>53643.45</td>\n",
       "      <td>57631.25</td>\n",
       "    </tr>\n",
       "    <tr>\n",
       "      <th>27</th>\n",
       "      <td>2021-05-06</td>\n",
       "      <td>2021-05-06 23:59:59</td>\n",
       "      <td>57689.53</td>\n",
       "      <td>58576.43</td>\n",
       "      <td>55553.51</td>\n",
       "      <td>56797.27</td>\n",
       "    </tr>\n",
       "    <tr>\n",
       "      <th>28</th>\n",
       "      <td>2021-05-07</td>\n",
       "      <td>2021-05-07 09:44:00</td>\n",
       "      <td>56579.60</td>\n",
       "      <td>57997.30</td>\n",
       "      <td>56220.06</td>\n",
       "      <td>57244.52</td>\n",
       "    </tr>\n",
       "  </tbody>\n",
       "</table>\n",
       "</div>"
      ],
      "text/plain": [
       "    time_open          time_close     open     high      low    close\n",
       "0  2021-04-09 2021-04-09 23:59:59 58116.59 58888.96 57815.55 58201.91\n",
       "1  2021-04-10 2021-04-10 23:59:59 58185.88 61130.30 58008.92 59828.46\n",
       "2  2021-04-11 2021-04-11 23:59:59 59800.38 60679.08 59391.38 60056.73\n",
       "3  2021-04-12 2021-04-12 23:59:59 60101.74 61403.57 59756.36 59978.89\n",
       "4  2021-04-13 2021-04-13 23:59:59 59933.20 63818.41 59926.01 63608.18\n",
       "5  2021-04-14 2021-04-14 23:59:59 63675.35 65028.97 61806.60 62866.96\n",
       "6  2021-04-15 2021-04-15 23:59:59 63099.63 63917.18 62214.97 63448.50\n",
       "7  2021-04-16 2021-04-16 23:59:59 63461.27 63940.01 61432.29 63031.57\n",
       "8  2021-04-17 2021-04-17 23:59:59 63064.65 63839.32 61504.05 61852.38\n",
       "9  2021-04-18 2021-04-18 23:59:59 61725.35 61992.34 54066.02 56595.13\n",
       "10 2021-04-19 2021-04-19 23:59:59 56655.52 58090.48 56137.75 57000.38\n",
       "11 2021-04-20 2021-04-20 23:59:59 56902.94 57257.56 53967.53 56581.49\n",
       "12 2021-04-21 2021-04-21 23:59:59 56501.04 57074.55 53977.80 54066.09\n",
       "13 2021-04-22 2021-04-22 23:59:59 53947.18 55466.96 51206.47 51961.16\n",
       "14 2021-04-23 2021-04-23 23:59:59 51891.20 52121.33 48020.49 51133.55\n",
       "15 2021-04-24 2021-04-24 23:59:59 51181.15 51218.57 49068.66 50264.17\n",
       "16 2021-04-25 2021-04-25 23:59:59 50253.51 50614.17 47618.30 49064.52\n",
       "17 2021-04-26 2021-04-26 23:59:59 49129.49 54398.61 49129.49 54059.78\n",
       "18 2021-04-27 2021-04-27 23:59:59 54100.92 55434.14 53499.70 55047.31\n",
       "19 2021-04-28 2021-04-28 23:59:59 55102.37 56287.30 54226.99 54948.96\n",
       "20 2021-04-29 2021-04-29 23:59:59 54990.84 55209.34 52584.61 53691.90\n",
       "21 2021-04-30 2021-04-30 23:59:59 53664.53 57892.56 53310.31 57836.23\n",
       "22 2021-05-01 2021-05-01 23:59:59 57830.63 58472.11 57264.76 57927.73\n",
       "23 2021-05-02 2021-05-02 23:59:59 57929.53 57982.85 56290.07 56699.65\n",
       "24 2021-05-03 2021-05-03 23:59:59 56680.61 58978.59 56680.61 57368.29\n",
       "25 2021-05-04 2021-05-04 23:59:59 57256.41 57256.41 53775.19 53775.19\n",
       "26 2021-05-05 2021-05-05 23:59:59 53643.45 58212.00 53643.45 57631.25\n",
       "27 2021-05-06 2021-05-06 23:59:59 57689.53 58576.43 55553.51 56797.27\n",
       "28 2021-05-07 2021-05-07 09:44:00 56579.60 57997.30 56220.06 57244.52"
      ]
     },
     "execution_count": 75,
     "metadata": {},
     "output_type": "execute_result"
    }
   ],
   "source": [
    "# drop volume & market_cap --> open, high, low und close besser sehen\n",
    "df.drop(columns=['volume', 'market_cap'])"
   ]
  },
  {
   "cell_type": "code",
   "execution_count": 76,
   "metadata": {},
   "outputs": [
    {
     "data": {
      "text/plain": [
       "<AxesSubplot:>"
      ]
     },
     "execution_count": 76,
     "metadata": {},
     "output_type": "execute_result"
    },
    {
     "data": {
      "image/png": "[encoded data removed]",
      "text/plain": [
       "<Figure size 720x360 with 1 Axes>"
      ]
     },
     "metadata": {},
     "output_type": "display_data"
    }
   ],
   "source": [
    "# ????\n",
    "fig, axes = plt.subplots(nrows=1, ncols=1, figsize=(10, 5))\n",
    "df.boxplot(ax=axes)"
   ]
  },
  {
   "cell_type": "code",
   "execution_count": 78,
   "metadata": {},
   "outputs": [],
   "source": [
    "# Feature 1: Tägliche News (Einfluss auf Kurs) --> Durchschnitt der Anzahl an täglichen Suchen nach dem Wort Bitcoin\n",
    "# Tägliche News der letzten 28 Tage\n",
    "def getNewsAverage(today):\n",
    "    \n",
    "    pytrends = TrendReq()\n",
    "\n",
    "    kw_list = [\"Bitcoin\"]\n",
    "\n",
    "    # get timeframe of last 28 days\n",
    "    #today = hist[0]['time_open']\n",
    "    new_date = today - timedelta(days=28)\n",
    "    toString = today.strftime(\"%Y-%m-%d\")\n",
    "    fromString = new_date.strftime(\"%Y-%m-%d\")\n",
    "    timespan = fromString + \" \" + toString\n",
    "\n",
    "    pytrends.build_payload(kw_list, cat=0, timeframe=timespan, geo='', gprop='')\n",
    "    df = pytrends.interest_over_time()\n",
    "\n",
    "    # calculate average\n",
    "    average = 0\n",
    "    for i in range(0, len(df['Bitcoin'])):\n",
    "        average += df['Bitcoin'][i]\n",
    "    average /= len(df['Bitcoin'])\n",
    "\n",
    "    return average"
   ]
  },
  {
   "cell_type": "code",
   "execution_count": 79,
   "metadata": {},
   "outputs": [],
   "source": [
    "# alle Daten: \n",
    "    #0: pdctPositive,\n",
    "    #1: PDCT predicted difference closing tomorrow,\n",
    "    #2: closing,\n",
    "    #3: variance,\n",
    "    #4: time_open,\n",
    "    #5: volume,\n",
    "    #6: news\n",
    "\n",
    "alldata = []\n",
    "for i in range(0,len(hist)):\n",
    "    variance = hist[i]['high'] - hist[i]['low']\n",
    "    \n",
    "    if(i == 0):\n",
    "        pdct = 0\n",
    "    else:\n",
    "        pdct = hist[i]['close'] - hist[i-1]['close']\n",
    "        \n",
    "    pdctPositive = pdct > 0\n",
    "    alldata.append({\"pdctPositive\": pdctPositive, \"pdct\": pdct, \"close\": hist[i]['close'], \"variance\": variance, \"time_open\": hist[i]['time_open'], \"volume\": hist[i]['volume'], \"news\": getNewsAverage(hist[i]['time_open'])})"
   ]
  },
  {
   "cell_type": "code",
   "execution_count": 38,
   "metadata": {},
   "outputs": [
    {
     "data": {
      "text/plain": [
       "{'time_open': datetime.datetime(2021, 4, 2, 0, 0),\n",
       " 'time_close': datetime.datetime(2021, 4, 2, 23, 59, 59),\n",
       " 'open': 58771.10234212,\n",
       " 'high': 60086.03463254,\n",
       " 'low': 58600.22488015,\n",
       " 'close': 59035.72783202,\n",
       " 'volume': 53148416451,\n",
       " 'market_cap': 1097317485131}"
      ]
     },
     "execution_count": 38,
     "metadata": {},
     "output_type": "execute_result"
    }
   ],
   "source": [
    "hist[0]"
   ]
  },
  {
   "cell_type": "code",
   "execution_count": 87,
   "metadata": {
    "scrolled": true
   },
   "outputs": [
    {
     "data": {
      "image/png": "[encoded data removed]",
      "text/plain": [
       "<Figure size 576x288 with 1 Axes>"
      ]
     },
     "metadata": {},
     "output_type": "display_data"
    }
   ],
   "source": [
    "# Gegenüberstellung Variance(Differenz höchster Kurs zu tiefsten Kurs) mit PDCT(Differenz Closing gestern zu heute) in den letzten 28 Tagen\n",
    "# WARUM?:\n",
    "# TO DO: DATEN IM GRAPH ANZEIGEN LASSEN \n",
    "# RESULTAT: \n",
    "    # Wenn Variance und PDCT nah zusammenliegen, steigt der Kurs\n",
    "graphdata = []\n",
    "for i in range(0, len(alldata)):\n",
    "    graphdata.append(alldata[i]['variance'])\n",
    "pdct = []\n",
    "for i in range(0, len(alldata)):\n",
    "    pdct.append(alldata[i]['pdct'])\n",
    "\n",
    "plt.plot(graphdata, \"green\")\n",
    "plt.plot(pdct, \"red\")\n",
    "plt.grid(True)\n",
    "plt.show()"
   ]
  },
  {
   "cell_type": "code",
   "execution_count": 88,
   "metadata": {},
   "outputs": [
    {
     "data": {
      "image/png": "[encoded data removed]",
      "text/plain": [
       "<Figure size 576x288 with 1 Axes>"
      ]
     },
     "metadata": {},
     "output_type": "display_data"
    }
   ],
   "source": [
    "close = []\n",
    "for i in range(0, len(alldata)):\n",
    "    close.append(alldata[i]['close'])\n",
    "\n",
    "plt.plot(close, \"blue\")\n",
    "plt.grid(True)\n",
    "plt.show()"
   ]
  },
  {
   "cell_type": "code",
   "execution_count": 128,
   "metadata": {},
   "outputs": [
    {
     "name": "stdout",
     "output_type": "stream",
     "text": [
      "[58201.91217718, 59828.45657879, 60056.72572604, 59978.88776531, 63608.17519132]\n"
     ]
    }
   ],
   "source": [
    "#MA --> https://miltonfmr.com/python-how-i-used-simple-technical-analysis-to-improve-bitcoin-price-prediction/\n",
    "#MA SW10 Semester 1 DSF !\n",
    "# moving average der letzten 5 Tage\n",
    "close = []\n",
    "for i in range(0, 5):\n",
    "    close.append(alldata[i]['close'])\n",
    "\n",
    "window_size =1\n",
    "\n",
    "i = 0\n",
    "moving_averages = []\n",
    "while i < len(close) - window_size + 1:\n",
    "    this_window = close[i : i + window_size]\n",
    "\n",
    "    window_average = sum(this_window) / window_size\n",
    "    moving_averages.append(window_average)\n",
    "    i += 1\n",
    "\n",
    "print(moving_averages)"
   ]
  },
  {
   "cell_type": "code",
   "execution_count": 129,
   "metadata": {},
   "outputs": [
    {
     "name": "stdout",
     "output_type": "stream",
     "text": [
      "[58201.91217718, 59828.45657879, 60056.72572604, 59978.88776531, 63608.17519132, 62866.96092455, 63448.50309793, 63031.56937431, 61852.37614616, 56595.12797689, 57000.38002992, 56581.48865398, 54066.09334042, 51961.16087988, 51133.5463416, 50264.17175558, 49064.5214996, 54059.77744163, 55047.31177054, 54948.96131554]\n"
     ]
    }
   ],
   "source": [
    "# moving average der letzten 20 Tage\n",
    "close = []\n",
    "for i in range(0,20):\n",
    "    close.append(alldata[i]['close'])\n",
    "\n",
    "window_size =1\n",
    "\n",
    "i = 0\n",
    "moving_averages2 = []\n",
    "while i < len(close) - window_size + 1:\n",
    "    this_window = close[i : i + window_size]\n",
    "\n",
    "    window_average = sum(this_window) / window_size\n",
    "    moving_averages2.append(window_average)\n",
    "    i += 1\n",
    "\n",
    "print(moving_averages2)"
   ]
  },
  {
   "cell_type": "code",
   "execution_count": 132,
   "metadata": {},
   "outputs": [
    {
     "data": {
      "image/png": "[encoded data removed]",
      "text/plain": [
       "<Figure size 576x288 with 1 Axes>"
      ]
     },
     "metadata": {},
     "output_type": "display_data"
    }
   ],
   "source": [
    "close = []\n",
    "for i in range(0, len(alldata)):\n",
    "    close.append(alldata[i]['close'])\n",
    "\n",
    "plt.plot(close, \"blue\")\n",
    "plt.plot(moving_averages2, \"yellow\")\n",
    "plt.plot(moving_averages, \"red\")\n",
    "plt.grid(True)\n",
    "plt.show()\n",
    "\n",
    "##"
   ]
  },
  {
   "cell_type": "code",
   "execution_count": 114,
   "metadata": {},
   "outputs": [
    {
     "name": "stdout",
     "output_type": "stream",
     "text": [
      "29\n"
     ]
    }
   ],
   "source": [
    "print(len(alldata))"
   ]
  },
  {
   "cell_type": "markdown",
   "metadata": {},
   "source": [
    "## Ziel: Klassifikation: Ist der nächste Tick (Tag) höher oder tiefer als heute\n",
    "> Klassifikationstree"
   ]
  },
  {
   "cell_type": "markdown",
   "metadata": {},
   "source": [
    "### Daten:\n",
    "- [x] Close heute\n",
    "- [x] Varianz heute (high - low)\n",
    "- [ ] Moving Average (letztes Jahr)\n",
    "- [x] News Coverage (Google Trends) > pytrends\n",
    "\n",
    "### Trainingsdatenset:\n",
    "- von Paprikacoin API"
   ]
  },
  {
   "cell_type": "code",
   "execution_count": 145,
   "metadata": {},
   "outputs": [
    {
     "name": "stdout",
     "output_type": "stream",
     "text": [
      "   pdctPositive    pdct    close  variance  time_open       volume  news\n",
      "0         False    0.00 58201.91   1073.41 2021-04-09  42382612463 70.90\n",
      "1          True 1626.54 59828.46   3121.38 2021-04-10  58820424143 69.72\n",
      "2          True  228.27 60056.73   1287.70 2021-04-11  45516101874 71.17\n",
      "3         False  -77.84 59978.89   1647.22 2021-04-12  49986299659 79.55\n",
      "4          True 3629.29 63608.18   3892.41 2021-04-13  65659269642 78.48\n",
      "0.9664777565747046\n"
     ]
    }
   ],
   "source": [
    "import pandas as pd\n",
    "import numpy as np\n",
    "from sklearn.tree import DecisionTreeClassifier\n",
    "from sklearn.metrics import make_scorer\n",
    "from sklearn import metrics\n",
    "from sklearn.tree import DecisionTreeRegressor\n",
    "from sklearn import tree\n",
    "from sklearn.metrics import mean_squared_error, r2_score \n",
    "from sklearn.model_selection import cross_val_score\n",
    "\n",
    "# CART\n",
    "numberOfTestData = int(0.2 * len(alldata))\n",
    "\n",
    "alldata = pd.DataFrame(alldata)\n",
    "\n",
    "print(alldata.head(5))\n",
    "\n",
    "#feature_cols = ['close', 'variance', 'volume', 'news']\n",
    "feature_cols = ['close']\n",
    "\n",
    "X = alldata[feature_cols]              # Features\n",
    "y = alldata['close']            # Target variable\n",
    "\n",
    "X_train = X[:-numberOfTestData]\n",
    "X_test  = X[-numberOfTestData:]\n",
    "y_train = y[:-numberOfTestData]\n",
    "y_test  = y[-numberOfTestData:]\n",
    "\n",
    "# Create Decision Tree classifer object\n",
    "clf = DecisionTreeRegressor(max_depth=5)\n",
    "#clf = DecisionTreeClassifier(max_depth=5)\n",
    "\n",
    "# Train Decision Tree Classifer\n",
    "clf = clf.fit(X_train, y_train)\n",
    "\n",
    "# Predict the response for test dataset\n",
    "y_pred = clf.predict(X_test)\n",
    "\n",
    "# Model Accuracy, how often is the classifier correct?\n",
    "#print(\"Accuracy:\", metrics.accuracy_score(y_test, y_pred).round(4))\n",
    "reg_metrics(y_test, y_pred, X_train)"
   ]
  },
  {
   "cell_type": "code",
   "execution_count": 139,
   "metadata": {},
   "outputs": [],
   "source": [
    "def reg_metrics(y_test, y_pred, X_train):\n",
    "\n",
    "    rmse = np.sqrt(mean_squared_error(y_test,y_pred))\n",
    "    r2 = r2_score(y_test,y_pred)\n",
    "\n",
    "    # Scikit-learn doesn't have adjusted r-square, hence custom code\n",
    "    n = y_pred.shape[0]\n",
    "    k = X_train.shape[1]\n",
    "    adj_r_sq = 1 - (1 - r2)*(n-1)/(n-1-k)\n",
    "\n",
    "    print(adj_r_sq)"
   ]
  },
  {
   "cell_type": "code",
   "execution_count": 140,
   "metadata": {},
   "outputs": [
    {
     "data": {
      "image/png": "[encoded data removed]",
      "text/plain": [
       "<Figure size 1152x576 with 1 Axes>"
      ]
     },
     "metadata": {},
     "output_type": "display_data"
    }
   ],
   "source": [
    "fig = plt.figure(figsize=(16,8))\n",
    "_ = tree.plot_tree(clf, \n",
    "                   feature_names=feature_cols,  \n",
    "                   class_names='news',\n",
    "                   filled=True)"
   ]
  },
  {
   "cell_type": "code",
   "execution_count": null,
   "metadata": {},
   "outputs": [],
   "source": [
    "#TO DO: Accuracy Score berechnen --> je nach resultat (>95%) weitere Schritte (prunning etc.)\n",
    "#https://scikit-learn.org/stable/modules/generated/sklearn.metrics.accuracy_score.html#sklearn.metrics.accuracy_score\n",
    "import sklearn\n",
    "from sklearn.model_selection import cross_val_score\n",
    "#Get build in cross_validation metrics\n",
    "#print(sorted(sklearn.metrics.SCORERS.keys()))\n",
    "\n",
    "# Calculate metrics: one metric for each single model in the n-fold cross validation\n",
    "scores = cross_val_score(clf, X_test, y_test, cv=5, scoring = 'accuracy')\n",
    "print(\"Cross validation results:\")\n",
    "for i in scores:\n",
    "    print(format(i, '.4f'))\n",
    "\n",
    "print( format(scores.round(4), '.4f') )\n",
    "\n",
    "# The mean score and the 95% confidence interval of the score estimate are given by:\n",
    "print(\"Accuracy (mean of cross validation): %0.4f (+/- %0.4f)\" % (scores.mean(), scores.std() * 2))"
   ]
  }
 ],
 "metadata": {
  "kernelspec": {
   "display_name": "Python 3",
   "language": "python",
   "name": "python3"
  },
  "language_info": {
   "codemirror_mode": {
    "name": "ipython",
    "version": 3
   },
   "file_extension": ".py",
   "mimetype": "text/x-python",
   "name": "python",
   "nbconvert_exporter": "python",
   "pygments_lexer": "ipython3",
   "version": "3.8.2"
  }
 },
 "nbformat": 4,
 "nbformat_minor": 4
}
