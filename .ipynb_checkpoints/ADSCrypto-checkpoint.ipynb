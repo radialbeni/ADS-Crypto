{
 "cells": [
  {
   "cell_type": "markdown",
   "metadata": {},
   "source": [
    "### Step 1: Import Data with CoinPaprika API (https://api.coinpaprika.com/)"
   ]
  },
  {
   "cell_type": "code",
   "execution_count": 5,
   "metadata": {},
   "outputs": [],
   "source": [
    "#from coinpaprika import client as Coinpaprika\n",
    "\n",
    "#client = Coinpaprika.Client()"
   ]
  },
  {
   "cell_type": "code",
   "execution_count": 44,
   "metadata": {},
   "outputs": [
    {
     "name": "stdout",
     "output_type": "stream",
     "text": [
      "btc-bitcoin\n"
     ]
    }
   ],
   "source": [
    "import Coinpaprika\n",
    "\n",
    "api_client = Coinpaprika.Client()\n",
    "market_overview = api_client.global_market_overview()\n",
    "\n",
    "#print(market_overview)\n",
    "\n",
    "all_coins = api_client.coins()\n",
    "for i  in range(0, 1):\n",
    "    print(all_coins[i]['id'])"
   ]
  },
  {
   "cell_type": "markdown",
   "metadata": {},
   "source": [
    "## get historical data "
   ]
  },
  {
   "cell_type": "code",
   "execution_count": 40,
   "metadata": {},
   "outputs": [],
   "source": [
    "from datetime import datetime, timedelta\n",
    "\n",
    "coins = ['btc-bitcoin', 'eth-ethereum', 'bch-bitcoin-cash', 'bnb-binance-coin', 'xmc-monero-classic', 'ksm-kusama']\n",
    "colors = ['green', 'red', 'blue', 'grey', 'black', 'yellow']\n",
    "\n",
    "hists = []\n",
    "for i in range(0, len(coins)):\n",
    "    hist = api_client.coins.historical_OHLC(\n",
    "        coin_id=coins[i],\n",
    "        start=datetime.now() - timedelta(weeks=4),\n",
    "        end=datetime.now()\n",
    "    )\n",
    "    # TODO: \"clean up\" data (na's, outliers, etc.)\n",
    "    hists.append(hist)\n",
    "    \n",
    "allclosings = []\n",
    "for i in range(0, len(hists)):\n",
    "    closings = []\n",
    "    for u in range(0, len(hists[i])):\n",
    "        closings.append(hists[i][u]['high'])\n",
    "        \n",
    "    allclosings.append(closings)"
   ]
  },
  {
   "cell_type": "code",
   "execution_count": 49,
   "metadata": {},
   "outputs": [],
   "source": [
    "#hists[0]"
   ]
  },
  {
   "cell_type": "code",
   "execution_count": 42,
   "metadata": {
    "scrolled": true
   },
   "outputs": [
    {
     "data": {
      "image/png": "[encoded data removed]",
      "text/plain": [
       "<Figure size 432x288 with 1 Axes>"
      ]
     },
     "metadata": {
      "needs_background": "light"
     },
     "output_type": "display_data"
    }
   ],
   "source": [
    "import matplotlib.pyplot as plt\n",
    "\n",
    "for i in range(0, len(allclosings)):\n",
    "    plt.plot(allclosings[i], colors[i])\n",
    "plt.grid(True)\n",
    "plt.show()"
   ]
  },
  {
   "cell_type": "markdown",
   "metadata": {},
   "source": [
    "moving average\n",
    "golden cross ()\n"
   ]
  },
  {
   "cell_type": "code",
   "execution_count": 50,
   "metadata": {},
   "outputs": [],
   "source": [
    "hists = []\n",
    "for i in range(0, len(coins)):\n",
    "    hist = api_client.coins.historical_OHLC(\n",
    "        coin_id=coins[i],\n",
    "        start=datetime.now() - timedelta(weeks=4),\n",
    "        end=datetime.now()\n",
    "    )\n",
    "    # TODO: \"clean up\" data (na's, outliers, etc.)\n",
    "    hists.append(hist)\n",
    "    \n",
    "allhighest = []\n",
    "alllowest = []\n",
    "for i in range(0, len(hists)):\n",
    "    highest = []\n",
    "    lowest = []\n",
    "    movingaverage = []\n",
    "    for u in range(0, len(hists[i])):\n",
    "        highest.append(hists[i][u]['high'])\n",
    "        lowest.append(hists[i][u]['low'])\n",
    "        \n",
    "    allhighest.append(highest)\n",
    "    alllowest.append(lowest)"
   ]
  },
  {
   "cell_type": "code",
   "execution_count": null,
   "metadata": {},
   "outputs": [],
   "source": []
  }
 ],
 "metadata": {
  "kernelspec": {
   "display_name": "Python 3",
   "language": "python",
   "name": "python3"
  },
  "language_info": {
   "codemirror_mode": {
    "name": "ipython",
    "version": 3
   },
   "file_extension": ".py",
   "mimetype": "text/x-python",
   "name": "python",
   "nbconvert_exporter": "python",
   "pygments_lexer": "ipython3",
   "version": "3.8.5"
  }
 },
 "nbformat": 4,
 "nbformat_minor": 4
}
