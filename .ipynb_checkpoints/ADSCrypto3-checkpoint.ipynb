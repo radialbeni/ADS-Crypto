{
 "cells": [
  {
   "cell_type": "markdown",
   "metadata": {},
   "source": [
    "### Step 1: Import Data with CoinPaprika API (https://api.coinpaprika.com/)"
   ]
  },
  {
   "cell_type": "code",
   "execution_count": 2,
   "metadata": {},
   "outputs": [
    {
     "name": "stdout",
     "output_type": "stream",
     "text": [
      "btc-bitcoin\n",
      "eth-ethereum\n",
      "bnb-binance-coin\n",
      "xrp-xrp\n",
      "usdt-tether\n",
      "doge-dogecoin\n",
      "ada-cardano\n",
      "dot-polkadot\n",
      "ltc-litecoin\n",
      "bch-bitcoin-cash\n"
     ]
    }
   ],
   "source": [
    "import Coinpaprika\n",
    "import pandas as pd                        \n",
    "from pytrends.request import TrendReq\n",
    "\n",
    "api_client = Coinpaprika.Client()\n",
    "market_overview = api_client.global_market_overview()\n",
    "\n",
    "#print(market_overview)\n",
    "\n",
    "all_coins = api_client.coins()\n",
    "for i  in range(0, 10):\n",
    "    print(all_coins[i]['id'])"
   ]
  },
  {
   "cell_type": "markdown",
   "metadata": {},
   "source": [
    "## get historical data "
   ]
  },
  {
   "cell_type": "code",
   "execution_count": 3,
   "metadata": {},
   "outputs": [],
   "source": [
    "from datetime import datetime, timedelta\n",
    "\n",
    "coin = 'btc-bitcoin'\n",
    "color = 'green'\n",
    "\n",
    "hist = api_client.coins.historical_OHLC(\n",
    "    coin_id=coin,\n",
    "    start=datetime.now() - timedelta(weeks=52) - timedelta(days=0),\n",
    "    end=datetime.now() - timedelta(days=0)\n",
    ")\n",
    "# TODO: \"clean up\" data (na's, outliers, etc.)"
   ]
  },
  {
   "cell_type": "code",
   "execution_count": 4,
   "metadata": {},
   "outputs": [],
   "source": [
    "def getNewsAverage(today):\n",
    "    pytrends = TrendReq()\n",
    "\n",
    "    kw_list = [\"Bitcoin\"]\n",
    "\n",
    "    # get timeframe of last 28 days\n",
    "    #today = hist[0]['time_open']\n",
    "    new_date = today - timedelta(days=3)\n",
    "    toString = today.strftime(\"%Y-%m-%d\")\n",
    "    fromString = new_date.strftime(\"%Y-%m-%d\")\n",
    "    timespan = fromString + \" \" + toString\n",
    "    \n",
    "    print(timespan)\n",
    "\n",
    "    pytrends.build_payload(kw_list, cat=0, timeframe=timespan, geo='', gprop='')\n",
    "    df = pytrends.interest_over_time()\n",
    "\n",
    "    #return df;\n",
    "    #return df['Bitcoin'][0];\n",
    "\n",
    "    # calculate average\n",
    "    average = 0\n",
    "    for i in range(0, len(df['Bitcoin'])):\n",
    "        average += df['Bitcoin'][i]\n",
    "    average /= len(df['Bitcoin'])\n",
    "    return average\n",
    "    "
   ]
  },
  {
   "cell_type": "code",
   "execution_count": 5,
   "metadata": {},
   "outputs": [],
   "source": [
    "#for i in range(0,len(hist)):\n",
    "#    print(\"---\")\n",
    "#    print(i)\n",
    "#    print(hist[i]['time_open'])\n",
    "#    print(getNewsAverage(hist[i]['time_open']))"
   ]
  },
  {
   "cell_type": "code",
   "execution_count": 67,
   "metadata": {},
   "outputs": [],
   "source": [
    "#alldata = []\n",
    "#for i in range(0,len(hist)):\n",
    "#    # 0: pdctPositive, 1: PDCT predicted difference closing tomorrow, 2: closing, 3: variance, 4: time_open, 5: volume, 6: open, 7: low, 8: high\n",
    "#    variance = hist[i]['high'] - hist[i]['low']\n",
    "#    if(i == 0):\n",
    "#        pdct = 0\n",
    "#    else:\n",
    "#        pdct = hist[i]['close'] - hist[i-1]['close']\n",
    "        \n",
    "#    pdctPositive = pdct > 0\n",
    "    #alldata.append({\n",
    "    #    \"pdctPositive\": pdctPositive, \n",
    "    #    \"pdct\": pdct, \n",
    "    #    \"close\": hist[i]['close'], \n",
    "    #    \"variance\": variance, \n",
    "    #    \"time_open\": hist[i]['time_open'], \n",
    "    #    \"volume\": hist[i]['volume'], \n",
    "    #    \"open\": hist[i]['open'], \n",
    "    #    \"low\": hist[i]['low'], \n",
    "    #    \"high\": hist[i]['high']})\n",
    "alldata = []\n",
    "for i in range(0,len(hist)):\n",
    "    if(i==0):\n",
    "        alldata.append({\n",
    "            \"close\": hist[0]['close'],\n",
    "            \"low\": hist[0]['low'],\n",
    "            \"high\": hist[0]['high'],\n",
    "            \"volume\": hist[0]['volume']\n",
    "        })\n",
    "    else:\n",
    "        alldata.append({\n",
    "            \"close\": hist[i]['close'],\n",
    "            \"low\": hist[i-1]['low'],\n",
    "            \"high\": hist[i-1]['high'],\n",
    "            \"volume\": hist[i-1]['volume']\n",
    "        })"
   ]
  },
  {
   "cell_type": "code",
   "execution_count": 68,
   "metadata": {},
   "outputs": [],
   "source": [
    "#hist[0]\n",
    "#for i in range(0, len(alldata)):\n",
    "#    print(alldata[i]['news'])"
   ]
  },
  {
   "cell_type": "code",
   "execution_count": 69,
   "metadata": {
    "scrolled": true
   },
   "outputs": [
    {
     "ename": "KeyError",
     "evalue": "'variance'",
     "output_type": "error",
     "traceback": [
      "\u001b[0;31m---------------------------------------------------------------------------\u001b[0m",
      "\u001b[0;31mKeyError\u001b[0m                                  Traceback (most recent call last)",
      "\u001b[0;32m<ipython-input-69-1d10667ced57>\u001b[0m in \u001b[0;36m<module>\u001b[0;34m\u001b[0m\n\u001b[1;32m      3\u001b[0m \u001b[0mgraphdata\u001b[0m \u001b[0;34m=\u001b[0m \u001b[0;34m[\u001b[0m\u001b[0;34m]\u001b[0m\u001b[0;34m\u001b[0m\u001b[0;34m\u001b[0m\u001b[0m\n\u001b[1;32m      4\u001b[0m \u001b[0;32mfor\u001b[0m \u001b[0mi\u001b[0m \u001b[0;32min\u001b[0m \u001b[0mrange\u001b[0m\u001b[0;34m(\u001b[0m\u001b[0;36m0\u001b[0m\u001b[0;34m,\u001b[0m \u001b[0mlen\u001b[0m\u001b[0;34m(\u001b[0m\u001b[0malldata\u001b[0m\u001b[0;34m)\u001b[0m\u001b[0;34m)\u001b[0m\u001b[0;34m:\u001b[0m\u001b[0;34m\u001b[0m\u001b[0;34m\u001b[0m\u001b[0m\n\u001b[0;32m----> 5\u001b[0;31m     \u001b[0mgraphdata\u001b[0m\u001b[0;34m.\u001b[0m\u001b[0mappend\u001b[0m\u001b[0;34m(\u001b[0m\u001b[0malldata\u001b[0m\u001b[0;34m[\u001b[0m\u001b[0mi\u001b[0m\u001b[0;34m]\u001b[0m\u001b[0;34m[\u001b[0m\u001b[0;34m'variance'\u001b[0m\u001b[0;34m]\u001b[0m\u001b[0;34m)\u001b[0m\u001b[0;34m\u001b[0m\u001b[0;34m\u001b[0m\u001b[0m\n\u001b[0m\u001b[1;32m      6\u001b[0m \u001b[0mpdct\u001b[0m \u001b[0;34m=\u001b[0m \u001b[0;34m[\u001b[0m\u001b[0;34m]\u001b[0m\u001b[0;34m\u001b[0m\u001b[0;34m\u001b[0m\u001b[0m\n\u001b[1;32m      7\u001b[0m \u001b[0;32mfor\u001b[0m \u001b[0mi\u001b[0m \u001b[0;32min\u001b[0m \u001b[0mrange\u001b[0m\u001b[0;34m(\u001b[0m\u001b[0;36m0\u001b[0m\u001b[0;34m,\u001b[0m \u001b[0mlen\u001b[0m\u001b[0;34m(\u001b[0m\u001b[0malldata\u001b[0m\u001b[0;34m)\u001b[0m\u001b[0;34m)\u001b[0m\u001b[0;34m:\u001b[0m\u001b[0;34m\u001b[0m\u001b[0;34m\u001b[0m\u001b[0m\n",
      "\u001b[0;31mKeyError\u001b[0m: 'variance'"
     ]
    }
   ],
   "source": [
    "import matplotlib.pyplot as plt\n",
    "\n",
    "graphdata = []\n",
    "for i in range(0, len(alldata)):\n",
    "    graphdata.append(alldata[i]['variance'])\n",
    "pdct = []\n",
    "for i in range(0, len(alldata)):\n",
    "    pdct.append(alldata[i]['pdct'])\n",
    "\n",
    "plt.plot(graphdata, \"green\")\n",
    "plt.plot(pdct, \"red\")\n",
    "plt.xlabel(\"Tage\")\n",
    "plt.grid(True)\n",
    "plt.show()"
   ]
  },
  {
   "cell_type": "code",
   "execution_count": 70,
   "metadata": {},
   "outputs": [
    {
     "data": {
      "image/png": "[encoded data removed]",
      "text/plain": [
       "<Figure size 432x288 with 1 Axes>"
      ]
     },
     "metadata": {
      "needs_background": "light"
     },
     "output_type": "display_data"
    }
   ],
   "source": [
    "close = []\n",
    "for i in range(0, len(alldata)):\n",
    "    close.append(alldata[i]['close'])\n",
    "\n",
    "plt.plot(close, \"blue\")\n",
    "plt.grid(True)\n",
    "plt.xlabel(\"Tage\")\n",
    "plt.show()"
   ]
  },
  {
   "cell_type": "markdown",
   "metadata": {},
   "source": [
    "## Ziel: LinearRegression"
   ]
  },
  {
   "cell_type": "code",
   "execution_count": 93,
   "metadata": {
    "scrolled": true
   },
   "outputs": [
    {
     "name": "stdout",
     "output_type": "stream",
     "text": [
      "315\n",
      "0.28376789945540926\n"
     ]
    },
    {
     "data": {
      "image/png": "[encoded data removed]",
      "text/plain": [
       "<Figure size 432x288 with 1 Axes>"
      ]
     },
     "metadata": {
      "needs_background": "light"
     },
     "output_type": "display_data"
    }
   ],
   "source": [
    "import pandas as pd\n",
    "import numpy as np\n",
    "from sklearn.linear_model import LinearRegression\n",
    "from sklearn.metrics import make_scorer\n",
    "from sklearn import metrics\n",
    "from sklearn.tree import DecisionTreeRegressor\n",
    "\n",
    "# testdate: all except last week\n",
    "numberOfTestData = 50\n",
    "\n",
    "alldata = pd.DataFrame(alldata)\n",
    "\n",
    "feature_cols = ['volume', 'low', 'high']\n",
    "#feature_cols = ['pdctPositive', 'pdct', 'variance', 'volume', 'open', 'low', 'high']\n",
    "\n",
    "X = alldata[feature_cols]       # Features\n",
    "y = alldata['close']            # Target variable\n",
    "\n",
    "X_train = X[:-numberOfTestData]\n",
    "X_test  = X[-numberOfTestData:]\n",
    "y_train = y[:-numberOfTestData]\n",
    "y_test  = y[-numberOfTestData:]\n",
    "\n",
    "print(len(X_train))\n",
    "\n",
    "# Create\n",
    "lr = LinearRegression();\n",
    "\n",
    "# Train\n",
    "lr = lr.fit(X_train, y_train)\n",
    "\n",
    "# Predict the response for test dataset\n",
    "y_pred = lr.predict(X_test)\n",
    "\n",
    "reg_metrics(y_test, y_pred, X_train)\n",
    "\n",
    "# tail the prediction\n",
    "predline = []\n",
    "u = 0\n",
    "for i in range(0, len(alldata)):\n",
    "    if(i < len(alldata) - numberOfTestData):\n",
    "        predline.append(close[i])\n",
    "    else:\n",
    "        predline.append(y_pred[u])\n",
    "        u+=1\n",
    "\n",
    "plotlineClose = []\n",
    "plotlinePred = []\n",
    "for i in range(len(alldata)-(2*numberOfTestData), len(alldata)):\n",
    "    plotlineClose.append(close[i])\n",
    "    plotlinePred.append(predline[i])\n",
    "\n",
    "\n",
    "        \n",
    "        \n",
    "        \n",
    "plt.plot(plotlineClose, \"blue\")\n",
    "plt.plot(plotlinePred, \"red\")\n",
    "plt.grid(True)\n",
    "plt.xlabel(\"Tage\")\n",
    "plt.show()"
   ]
  },
  {
   "cell_type": "code",
   "execution_count": 14,
   "metadata": {},
   "outputs": [],
   "source": [
    "def reg_metrics(y_test, y_pred, X_train):\n",
    "    from sklearn.metrics import mean_squared_error, r2_score \n",
    "\n",
    "    rmse = np.sqrt(mean_squared_error(y_test,y_pred))\n",
    "    r2 = r2_score(y_test,y_pred)\n",
    "\n",
    "    # Scikit-learn doesn't have adjusted r-square, hence custom code\n",
    "    n = y_pred.shape[0]\n",
    "    k = X_train.shape[1]\n",
    "    adj_r_sq = 1 - (1 - r2)*(n-1)/(n-1-k)\n",
    "\n",
    "    print(adj_r_sq)"
   ]
  },
  {
   "cell_type": "code",
   "execution_count": null,
   "metadata": {},
   "outputs": [],
   "source": []
  },
  {
   "cell_type": "code",
   "execution_count": null,
   "metadata": {},
   "outputs": [],
   "source": []
  },
  {
   "cell_type": "code",
   "execution_count": null,
   "metadata": {},
   "outputs": [],
   "source": []
  }
 ],
 "metadata": {
  "kernelspec": {
   "display_name": "Python 3",
   "language": "python",
   "name": "python3"
  },
  "language_info": {
   "codemirror_mode": {
    "name": "ipython",
    "version": 3
   },
   "file_extension": ".py",
   "mimetype": "text/x-python",
   "name": "python",
   "nbconvert_exporter": "python",
   "pygments_lexer": "ipython3",
   "version": "3.8.5"
  }
 },
 "nbformat": 4,
 "nbformat_minor": 4
}
