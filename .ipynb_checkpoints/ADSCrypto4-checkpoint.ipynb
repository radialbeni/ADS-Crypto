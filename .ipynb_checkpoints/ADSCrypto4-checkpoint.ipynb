{
 "cells": [
  {
   "cell_type": "markdown",
   "metadata": {},
   "source": [
    "### Step 1: Import Data with CoinPaprika API (https://api.coinpaprika.com/)"
   ]
  },
  {
   "cell_type": "code",
   "execution_count": 38,
   "metadata": {},
   "outputs": [
    {
     "name": "stdout",
     "output_type": "stream",
     "text": [
      "btc-bitcoin\n",
      "eth-ethereum\n",
      "bnb-binance-coin\n",
      "xrp-xrp\n",
      "usdt-tether\n",
      "doge-dogecoin\n",
      "ada-cardano\n",
      "dot-polkadot\n",
      "ltc-litecoin\n",
      "bch-bitcoin-cash\n"
     ]
    }
   ],
   "source": [
    "import Coinpaprika\n",
    "import pandas as pd                        \n",
    "from pytrends.request import TrendReq\n",
    "import matplotlib.pyplot as plt\n",
    "\n",
    "api_client = Coinpaprika.Client()\n",
    "market_overview = api_client.global_market_overview()\n",
    "\n",
    "#print(market_overview)\n",
    "\n",
    "all_coins = api_client.coins()\n",
    "for i  in range(0, 10):\n",
    "    print(all_coins[i]['id'])"
   ]
  },
  {
   "cell_type": "markdown",
   "metadata": {},
   "source": [
    "## get historical data "
   ]
  },
  {
   "cell_type": "code",
   "execution_count": 2,
   "metadata": {},
   "outputs": [],
   "source": [
    "from datetime import datetime, timedelta\n",
    "\n",
    "coin = 'btc-bitcoin'\n",
    "color = 'green'\n",
    "\n",
    "hist = api_client.coins.historical_OHLC(\n",
    "    coin_id=coin,\n",
    "    start=datetime.now() - timedelta(weeks=52) - timedelta(days=0),\n",
    "    end=datetime.now() - timedelta(days=0)\n",
    ")\n",
    "# TODO: \"clean up\" data (na's, outliers, etc.)"
   ]
  },
  {
   "cell_type": "code",
   "execution_count": 3,
   "metadata": {},
   "outputs": [],
   "source": [
    "def getNewsAverage(today):\n",
    "    pytrends = TrendReq()\n",
    "\n",
    "    kw_list = [\"Bitcoin\"]\n",
    "\n",
    "    # get timeframe of last 28 days\n",
    "    #today = hist[0]['time_open']\n",
    "    new_date = today - timedelta(days=3)\n",
    "    toString = today.strftime(\"%Y-%m-%d\")\n",
    "    fromString = new_date.strftime(\"%Y-%m-%d\")\n",
    "    timespan = fromString + \" \" + toString\n",
    "    \n",
    "    print(timespan)\n",
    "\n",
    "    pytrends.build_payload(kw_list, cat=0, timeframe=timespan, geo='', gprop='')\n",
    "    df = pytrends.interest_over_time()\n",
    "\n",
    "    #return df;\n",
    "    #return df['Bitcoin'][0];\n",
    "\n",
    "    # calculate average\n",
    "    average = 0\n",
    "    for i in range(0, len(df['Bitcoin'])):\n",
    "        average += df['Bitcoin'][i]\n",
    "    average /= len(df['Bitcoin'])\n",
    "    return average\n",
    "    "
   ]
  },
  {
   "cell_type": "code",
   "execution_count": 69,
   "metadata": {},
   "outputs": [],
   "source": [
    "alldata = []\n",
    "\n",
    "for i in range(1,len(hist)):\n",
    "    \n",
    "    # difference closing yesterday to today\n",
    "    pdct = hist[i]['close'] - hist[i-1]['close']\n",
    "    \n",
    "    alldata.append({\n",
    "        \"pdct\": pdct,\n",
    "        \"variance\": hist[i-1]['high'] - hist[i-1]['low'],\n",
    "        \"close\": hist[i-1]['close'],\n",
    "        \"low\": hist[i-1]['low'],\n",
    "        \"high\": hist[i-1]['high'],\n",
    "        \"volume\": hist[i-1]['volume']\n",
    "    })"
   ]
  },
  {
   "cell_type": "code",
   "execution_count": 70,
   "metadata": {},
   "outputs": [
    {
     "name": "stdout",
     "output_type": "stream",
     "text": [
      "{'pdct': -17.19636951999928, 'variance': 458.7706112300002, 'close': 8927.58887813, 'low': 8847.22904733, 'high': 9305.99965856, 'volume': 32894333585}\n"
     ]
    }
   ],
   "source": [
    "print(alldata[0])"
   ]
  },
  {
   "cell_type": "markdown",
   "metadata": {},
   "source": [
    "## Ziel: LinearRegression"
   ]
  },
  {
   "cell_type": "code",
   "execution_count": 71,
   "metadata": {},
   "outputs": [],
   "source": [
    "close = []\n",
    "for i in range(0, len(alldata)):\n",
    "    close.append(alldata[i]['close'])"
   ]
  },
  {
   "cell_type": "code",
   "execution_count": 73,
   "metadata": {
    "scrolled": false
   },
   "outputs": [
    {
     "name": "stdout",
     "output_type": "stream",
     "text": [
      "6 / 20\n"
     ]
    }
   ],
   "source": [
    "import pandas as pd\n",
    "import numpy as np\n",
    "from sklearn.linear_model import LinearRegression\n",
    "from sklearn.metrics import make_scorer\n",
    "from sklearn import metrics\n",
    "from sklearn.tree import DecisionTreeRegressor\n",
    "\n",
    "# testdate: all except last week\n",
    "numberOfTestData = 20\n",
    "\n",
    "alldataFrame = pd.DataFrame(alldata)\n",
    "\n",
    "feature_cols = ['volume', 'low', 'high', 'close', 'variance']\n",
    "#feature_cols = ['pdctPositive', 'pdct', 'variance', 'volume', 'open', 'low', 'high']\n",
    "\n",
    "X = alldataFrame[feature_cols]       # Features\n",
    "y = alldataFrame['pdct']            # Target variable\n",
    "\n",
    "X_train = X[:-numberOfTestData]\n",
    "X_test  = X[-numberOfTestData:]\n",
    "y_train = y[:-numberOfTestData]\n",
    "y_test  = y[-numberOfTestData:]\n",
    "\n",
    "\n",
    "# Create\n",
    "lr = LinearRegression();\n",
    "\n",
    "# Train\n",
    "lr = lr.fit(X_train, y_train)\n",
    "\n",
    "# Predict the response for test dataset\n",
    "y_pred = lr.predict(X_test)\n",
    "\n",
    "reg_metrics(y_test, y_pred, X_train)\n",
    "\n",
    "numberCorrect = 0\n",
    "numberFalse = 0\n",
    "\n",
    "for i in range(0, numberOfTestData):\n",
    "    valueInt = len(alldata)-(numberOfTestData)+i\n",
    "    actualPDCT = alldata[valueInt][\"pdct\"]\n",
    "    predictedPDCT = y_pred[i]\n",
    "    \n",
    "    actualPDCTPositive = actualPDCT > 0\n",
    "    predictedPDCTPositive = predictedPDCT > 0\n",
    "    \n",
    "    if(actualPDCTPositive == predictedPDCTPositive):\n",
    "        numberCorrect+=1\n",
    "    else:\n",
    "        numberFalse+=1\n",
    "    #print(\"predicted: \" + str(predictedPDCTPositive) + \", actual: \" + str(actualPDCTPositive))\n",
    "    \n",
    "    \n",
    "print(str(numberCorrect) + \" / \" + str((numberCorrect + numberFalse)))\n",
    "#print(y_pred)\n"
   ]
  },
  {
   "cell_type": "code",
   "execution_count": 74,
   "metadata": {
    "scrolled": true
   },
   "outputs": [
    {
     "data": {
      "image/png": "[encoded data removed]",
      "text/plain": [
       "<Figure size 432x288 with 1 Axes>"
      ]
     },
     "metadata": {
      "needs_background": "light"
     },
     "output_type": "display_data"
    }
   ],
   "source": [
    "plotPDCTActual = []\n",
    "plotPDCTPred = []\n",
    "\n",
    "for i in range(0, numberOfTestData):\n",
    "    valueInt = len(alldata)-(numberOfTestData)+i\n",
    "    actualPDCT = alldata[valueInt][\"pdct\"]\n",
    "    predictedPDCT = y_pred[i]\n",
    "    \n",
    "    plotPDCTActual.append(actualPDCT)\n",
    "    plotPDCTPred.append(predictedPDCT)\n",
    "\n",
    "plt.plot(plotPDCTActual, \"blue\")\n",
    "plt.plot(plotPDCTPred, \"red\")\n",
    "plt.grid(True)\n",
    "plt.xlabel(\"Tage\")\n",
    "plt.show()"
   ]
  },
  {
   "cell_type": "code",
   "execution_count": 7,
   "metadata": {},
   "outputs": [],
   "source": [
    "def reg_metrics(y_test, y_pred, X_train):\n",
    "    from sklearn.metrics import mean_squared_error, r2_score \n",
    "\n",
    "    rmse = np.sqrt(mean_squared_error(y_test,y_pred))\n",
    "    r2 = r2_score(y_test,y_pred)\n",
    "\n",
    "    # Scikit-learn doesn't have adjusted r-square, hence custom code\n",
    "    n = y_pred.shape[0]\n",
    "    k = X_train.shape[1]\n",
    "    adj_r_sq = 1 - (1 - r2)*(n-1)/(n-1-k)\n",
    "\n",
    "#    print(adj_r_sq)"
   ]
  },
  {
   "cell_type": "code",
   "execution_count": null,
   "metadata": {},
   "outputs": [],
   "source": []
  },
  {
   "cell_type": "code",
   "execution_count": null,
   "metadata": {},
   "outputs": [],
   "source": []
  },
  {
   "cell_type": "code",
   "execution_count": null,
   "metadata": {},
   "outputs": [],
   "source": []
  }
 ],
 "metadata": {
  "kernelspec": {
   "display_name": "Python 3",
   "language": "python",
   "name": "python3"
  },
  "language_info": {
   "codemirror_mode": {
    "name": "ipython",
    "version": 3
   },
   "file_extension": ".py",
   "mimetype": "text/x-python",
   "name": "python",
   "nbconvert_exporter": "python",
   "pygments_lexer": "ipython3",
   "version": "3.8.5"
  }
 },
 "nbformat": 4,
 "nbformat_minor": 4
}
