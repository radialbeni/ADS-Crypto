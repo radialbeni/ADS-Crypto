{
 "cells": [
  {
   "cell_type": "markdown",
   "metadata": {},
   "source": [
    "### Step 1: Import Data with CoinPaprika API (https://api.coinpaprika.com/)"
   ]
  },
  {
   "cell_type": "code",
   "execution_count": 1,
   "metadata": {},
   "outputs": [],
   "source": [
    "import Coinpaprika\n",
    "import pandas as pd                        \n",
    "from pytrends.request import TrendReq\n",
    "import matplotlib.pyplot as plt\n",
    "from sklearn.preprocessing import MinMaxScaler\n",
    "import numpy as np\n",
    "import tensorflow as tf\n",
    "from tensorflow import keras\n",
    "from tensorflow.keras import layers\n",
    "from tensorflow.keras.layers import Bidirectional, Dropout, Activation, Dense, LSTM\n",
    "from tensorflow.python.keras.layers import CuDNNLSTM\n",
    "from tensorflow.keras.models import Sequential"
   ]
  },
  {
   "cell_type": "code",
   "execution_count": 2,
   "metadata": {},
   "outputs": [
    {
     "name": "stdout",
     "output_type": "stream",
     "text": [
      "btc-bitcoin\n",
      "eth-ethereum\n",
      "bnb-binance-coin\n",
      "ada-cardano\n",
      "xrp-xrp\n",
      "doge-dogecoin\n",
      "usdt-tether\n",
      "dot-polkadot\n",
      "bch-bitcoin-cash\n",
      "ltc-litecoin\n"
     ]
    }
   ],
   "source": [
    "api_client = Coinpaprika.Client()\n",
    "market_overview = api_client.global_market_overview()\n",
    "\n",
    "#print(market_overview)\n",
    "\n",
    "all_coins = api_client.coins()\n",
    "for i  in range(0, 10):\n",
    "    print(all_coins[i]['id'])"
   ]
  },
  {
   "cell_type": "markdown",
   "metadata": {},
   "source": [
    "## get historical data "
   ]
  },
  {
   "cell_type": "code",
   "execution_count": 3,
   "metadata": {},
   "outputs": [],
   "source": [
    "from datetime import datetime, timedelta\n",
    "\n",
    "coin = 'btc-bitcoin'\n",
    "color = 'green'\n",
    "\n",
    "hist = api_client.coins.historical_OHLC(\n",
    "    coin_id=coin,\n",
    "    start=datetime.now() - timedelta(weeks=52) - timedelta(days=0),\n",
    "    end=datetime.now() - timedelta(days=0)\n",
    ")\n",
    "# TODO: \"clean up\" data (na's, outliers, etc.)"
   ]
  },
  {
   "cell_type": "code",
   "execution_count": 4,
   "metadata": {},
   "outputs": [],
   "source": [
    "alldata = []\n",
    "\n",
    "for i in range(1,len(hist)):\n",
    "    alldata.append({\n",
    "        \"close\": hist[i]['close'],\n",
    "        #\"open\": hist[i-1]['open'],\n",
    "        #\"volume\": hist[i-1]['volume'],\n",
    "        #\"variance\": (hist[i-1]['high'] - hist[i-1]['low'])\n",
    "    })"
   ]
  },
  {
   "cell_type": "code",
   "execution_count": 5,
   "metadata": {
    "scrolled": true
   },
   "outputs": [
    {
     "name": "stdout",
     "output_type": "stream",
     "text": [
      "{'close': 9744.90778298}\n",
      "364\n"
     ]
    }
   ],
   "source": [
    "print(alldata[0])\n",
    "print(len(alldata))"
   ]
  },
  {
   "cell_type": "markdown",
   "metadata": {},
   "source": [
    "### New Model with Keras\n"
   ]
  },
  {
   "cell_type": "code",
   "execution_count": 6,
   "metadata": {},
   "outputs": [],
   "source": [
    "alldataFrame = pd.DataFrame(alldata)"
   ]
  },
  {
   "cell_type": "code",
   "execution_count": 7,
   "metadata": {},
   "outputs": [
    {
     "name": "stdout",
     "output_type": "stream",
     "text": [
      "(364, 1)\n",
      "(364, 1)\n"
     ]
    }
   ],
   "source": [
    "scaler = MinMaxScaler()\n",
    "\n",
    "print(alldataFrame.shape)\n",
    "\n",
    "scaled_close = scaler.fit_transform(alldataFrame.values)#.reshape(-1, 1))\n",
    "\n",
    "print(scaled_close.shape)\n",
    "\n",
    "SEQ_LEN = 100"
   ]
  },
  {
   "cell_type": "code",
   "execution_count": 8,
   "metadata": {},
   "outputs": [],
   "source": [
    "def to_sequences(data, seq_len):\n",
    "    d = []\n",
    "\n",
    "    for index in range(len(data) - seq_len):\n",
    "        d.append(data[index: index + seq_len])\n",
    "\n",
    "    return np.array(d)"
   ]
  },
  {
   "cell_type": "code",
   "execution_count": 9,
   "metadata": {},
   "outputs": [],
   "source": [
    "def preprocess(data_raw, seq_len, train_split):\n",
    "    data = to_sequences(data_raw, seq_len)\n",
    "\n",
    "    num_train = int(train_split * data.shape[0])\n",
    "\n",
    "    X_train = data[:num_train, :-1, :]\n",
    "    y_train = data[:num_train, -1, :]\n",
    "\n",
    "    X_test = data[num_train:, :-1, :]\n",
    "    y_test = data[num_train:, -1, :]\n",
    "\n",
    "    return X_train, y_train, X_test, y_test"
   ]
  },
  {
   "cell_type": "code",
   "execution_count": 10,
   "metadata": {},
   "outputs": [
    {
     "name": "stdout",
     "output_type": "stream",
     "text": [
      "(224, 99, 1)\n",
      "(40, 99, 1)\n"
     ]
    }
   ],
   "source": [
    "X_train, y_train, X_test, y_test = preprocess(scaled_close, SEQ_LEN, train_split = 0.85)\n",
    "print(X_train.shape)\n",
    "print(X_test.shape)"
   ]
  },
  {
   "cell_type": "code",
   "execution_count": 11,
   "metadata": {
    "scrolled": false
   },
   "outputs": [
    {
     "name": "stdout",
     "output_type": "stream",
     "text": [
      "Epoch 1/20\n",
      "4/4 [==============================] - 10s 1s/step - loss: 0.0118 - val_loss: 0.0026\n",
      "Epoch 2/20\n",
      "4/4 [==============================] - 2s 362ms/step - loss: 0.0323 - val_loss: 0.1880\n",
      "Epoch 3/20\n",
      "4/4 [==============================] - 2s 360ms/step - loss: 0.0131 - val_loss: 0.0061\n",
      "Epoch 4/20\n",
      "4/4 [==============================] - 1s 358ms/step - loss: 0.0213 - val_loss: 0.0180\n",
      "Epoch 5/20\n",
      "4/4 [==============================] - 2s 358ms/step - loss: 0.0113 - val_loss: 0.0212\n",
      "Epoch 6/20\n",
      "4/4 [==============================] - 2s 382ms/step - loss: 0.0050 - val_loss: 0.0067\n",
      "Epoch 7/20\n",
      "4/4 [==============================] - 2s 367ms/step - loss: 0.0019 - val_loss: 0.0150\n",
      "Epoch 8/20\n",
      "4/4 [==============================] - 2s 364ms/step - loss: 0.0043 - val_loss: 0.0136\n",
      "Epoch 9/20\n",
      "4/4 [==============================] - 2s 367ms/step - loss: 0.0018 - val_loss: 0.0022\n",
      "Epoch 10/20\n",
      "4/4 [==============================] - 1s 354ms/step - loss: 0.0029 - val_loss: 0.0024\n",
      "Epoch 11/20\n",
      "4/4 [==============================] - 1s 353ms/step - loss: 0.0020 - val_loss: 0.0079\n",
      "Epoch 12/20\n",
      "4/4 [==============================] - 1s 353ms/step - loss: 0.0021 - val_loss: 0.0049\n",
      "Epoch 13/20\n",
      "4/4 [==============================] - 2s 359ms/step - loss: 0.0017 - val_loss: 0.0023\n",
      "Epoch 14/20\n",
      "4/4 [==============================] - 1s 362ms/step - loss: 0.0016 - val_loss: 0.0033\n",
      "Epoch 15/20\n",
      "4/4 [==============================] - 2s 363ms/step - loss: 0.0017 - val_loss: 0.0063\n",
      "Epoch 16/20\n",
      "4/4 [==============================] - 2s 381ms/step - loss: 0.0018 - val_loss: 0.0052\n",
      "Epoch 17/20\n",
      "4/4 [==============================] - 2s 370ms/step - loss: 0.0016 - val_loss: 0.0037\n",
      "Epoch 18/20\n",
      "4/4 [==============================] - 2s 361ms/step - loss: 0.0016 - val_loss: 0.0050\n",
      "Epoch 19/20\n",
      "4/4 [==============================] - 2s 366ms/step - loss: 0.0017 - val_loss: 0.0052\n",
      "Epoch 20/20\n",
      "4/4 [==============================] - 2s 360ms/step - loss: 0.0015 - val_loss: 0.0046\n"
     ]
    }
   ],
   "source": [
    "DROPOUT = 0.2\n",
    "WINDOW_SIZE = SEQ_LEN - 1\n",
    "BATCH_SIZE = 64\n",
    "\n",
    "model = keras.Sequential()\n",
    "\n",
    "model.add(Bidirectional(LSTM(WINDOW_SIZE, return_sequences=True), input_shape=(WINDOW_SIZE, X_train.shape[-1])))\n",
    "model.add(Dropout(rate=DROPOUT))\n",
    "model.add(Bidirectional(LSTM((WINDOW_SIZE * 2), return_sequences=True)))\n",
    "model.add(Dropout(rate=DROPOUT))\n",
    "model.add(Bidirectional(LSTM(WINDOW_SIZE, return_sequences=False)))\n",
    "model.add(Dense(units=1))\n",
    "model.add(Activation('linear'))\n",
    "\n",
    "model.compile(\n",
    "    loss='mean_squared_error',\n",
    "    optimizer='adam'\n",
    ")\n",
    "\n",
    "history = model.fit(\n",
    "    X_train,\n",
    "    y_train,\n",
    "    epochs=20,\n",
    "    batch_size=BATCH_SIZE,\n",
    "    shuffle=False,\n",
    "    validation_split=0.1\n",
    ")"
   ]
  },
  {
   "cell_type": "code",
   "execution_count": 12,
   "metadata": {},
   "outputs": [
    {
     "name": "stdout",
     "output_type": "stream",
     "text": [
      "2/2 [==============================] - 0s 38ms/step - loss: 0.0224\n"
     ]
    },
    {
     "data": {
      "text/plain": [
       "0.022434936836361885"
      ]
     },
     "execution_count": 12,
     "metadata": {},
     "output_type": "execute_result"
    }
   ],
   "source": [
    "model.evaluate(X_test, y_test)"
   ]
  },
  {
   "cell_type": "code",
   "execution_count": 13,
   "metadata": {
    "scrolled": true
   },
   "outputs": [
    {
     "data": {
      "image/png": "[encoded data removed]",
      "text/plain": [
       "<Figure size 432x288 with 1 Axes>"
      ]
     },
     "metadata": {
      "needs_background": "light"
     },
     "output_type": "display_data"
    }
   ],
   "source": [
    "plt.plot(history.history['loss'])\n",
    "plt.plot(history.history['val_loss'])\n",
    "plt.title('model loss')\n",
    "plt.ylabel('loss')\n",
    "plt.xlabel('epoch')\n",
    "plt.legend(['train', 'test'], loc='upper left')\n",
    "plt.show()"
   ]
  },
  {
   "cell_type": "code",
   "execution_count": 14,
   "metadata": {
    "scrolled": false
   },
   "outputs": [
    {
     "data": {
      "image/png": "[encoded data removed]",
      "text/plain": [
       "<Figure size 1152x576 with 1 Axes>"
      ]
     },
     "metadata": {
      "needs_background": "light"
     },
     "output_type": "display_data"
    }
   ],
   "source": [
    "y_hat = model.predict(X_test)\n",
    "\n",
    "#frame = pd.DataFrame(y_test)\n",
    "\n",
    "\n",
    "y_train_inverse = scaler.inverse_transform(y_train)\n",
    "y_test_inverse = scaler.inverse_transform(y_test)\n",
    "#y_hat_inverse = scaler.inverse_transform(y_hat)\n",
    "\n",
    "\n",
    "y_testclose = []\n",
    "for i in range(0, len(y_test_inverse)):\n",
    "    y_testclose.append(y_test_inverse[i][0])\n",
    "    \n",
    "scale = y_test_inverse[0][0] / y_test[0][0]\n",
    "y_predictclose = []\n",
    "for i in range(0, len(y_hat)):\n",
    "    y_predictclose.append(y_hat[i] * scale)\n",
    " \n",
    "\n",
    "#alldata\n",
    "y_actual_complete = []\n",
    "y_predict_complete = []\n",
    "for i in range(0, (len(y_train_inverse) + len(y_test_inverse))):\n",
    "    if i < len(y_train_inverse):\n",
    "        y_actual_complete.append(y_train_inverse[i])\n",
    "        y_predict_complete.append(y_train_inverse[i])\n",
    "    else:\n",
    "        y_actual_complete.append(y_test_inverse[(i - len(y_train_inverse))])\n",
    "        y_predict_complete.append(y_predictclose[(i - len(y_train_inverse))])\n",
    "\n",
    "\n",
    "plt.figure(figsize=(16,8))\n",
    "plt.plot(y_actual_complete, label=\"Actual Price\", color='green')\n",
    "#plt.plot(y_testclose, label=\"Actual Price\", color='green')\n",
    "plt.plot(y_predict_complete, label=\"Predicted Price\", color='red')\n",
    "    \n",
    "plt.title('Bitcoin price prediction')\n",
    "plt.xlabel('Time [days]')\n",
    "plt.ylabel('Price')\n",
    "plt.legend(loc='best')\n",
    " \n",
    "plt.show();"
   ]
  },
  {
   "cell_type": "code",
   "execution_count": null,
   "metadata": {},
   "outputs": [],
   "source": []
  },
  {
   "cell_type": "code",
   "execution_count": null,
   "metadata": {},
   "outputs": [],
   "source": []
  }
 ],
 "metadata": {
  "kernelspec": {
   "display_name": "Python 3",
   "language": "python",
   "name": "python3"
  },
  "language_info": {
   "codemirror_mode": {
    "name": "ipython",
    "version": 3
   },
   "file_extension": ".py",
   "mimetype": "text/x-python",
   "name": "python",
   "nbconvert_exporter": "python",
   "pygments_lexer": "ipython3",
   "version": "3.8.5"
  }
 },
 "nbformat": 4,
 "nbformat_minor": 4
}
